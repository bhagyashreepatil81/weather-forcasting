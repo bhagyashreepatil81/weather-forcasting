{
  "nbformat": 4,
  "nbformat_minor": 0,
  "metadata": {
    "colab": {
      "name": "Austin_weather_decisiontrees.ipynb",
      "provenance": [],
      "collapsed_sections": []
    },
    "kernelspec": {
      "name": "python3",
      "display_name": "Python 3"
    }
  },
  "cells": [
    {
      "cell_type": "code",
      "metadata": {
        "id": "MV29PMxf-k2C",
        "colab_type": "code",
        "outputId": "bdd36b22-4a15-45ef-cfad-c627eb6a0a49",
        "colab": {
          "base_uri": "https://localhost:8080/",
          "height": 386
        }
      },
      "source": [
        "import numpy as np\n",
        "import pandas as pd\n",
        "\n",
        "import graphviz\n",
        "import matplotlib.pyplot as plt\n",
        "\n",
        "data = pd.read_csv('austin_weather.csv', parse_dates=['Date'])\n",
        "print(data.shape)\n",
        "# df = data\n",
        "data.head()"
      ],
      "execution_count": 135,
      "outputs": [
        {
          "output_type": "stream",
          "text": [
            "(1319, 21)\n"
          ],
          "name": "stdout"
        },
        {
          "output_type": "execute_result",
          "data": {
            "text/html": [
              "<div>\n",
              "<style scoped>\n",
              "    .dataframe tbody tr th:only-of-type {\n",
              "        vertical-align: middle;\n",
              "    }\n",
              "\n",
              "    .dataframe tbody tr th {\n",
              "        vertical-align: top;\n",
              "    }\n",
              "\n",
              "    .dataframe thead th {\n",
              "        text-align: right;\n",
              "    }\n",
              "</style>\n",
              "<table border=\"1\" class=\"dataframe\">\n",
              "  <thead>\n",
              "    <tr style=\"text-align: right;\">\n",
              "      <th></th>\n",
              "      <th>Date</th>\n",
              "      <th>TempHighF</th>\n",
              "      <th>TempAvgF</th>\n",
              "      <th>TempLowF</th>\n",
              "      <th>DewPointHighF</th>\n",
              "      <th>DewPointAvgF</th>\n",
              "      <th>DewPointLowF</th>\n",
              "      <th>HumidityHighPercent</th>\n",
              "      <th>HumidityAvgPercent</th>\n",
              "      <th>HumidityLowPercent</th>\n",
              "      <th>SeaLevelPressureHighInches</th>\n",
              "      <th>SeaLevelPressureAvgInches</th>\n",
              "      <th>SeaLevelPressureLowInches</th>\n",
              "      <th>VisibilityHighMiles</th>\n",
              "      <th>VisibilityAvgMiles</th>\n",
              "      <th>VisibilityLowMiles</th>\n",
              "      <th>WindHighMPH</th>\n",
              "      <th>WindAvgMPH</th>\n",
              "      <th>WindGustMPH</th>\n",
              "      <th>PrecipitationSumInches</th>\n",
              "      <th>Events</th>\n",
              "    </tr>\n",
              "  </thead>\n",
              "  <tbody>\n",
              "    <tr>\n",
              "      <th>0</th>\n",
              "      <td>2013-12-21</td>\n",
              "      <td>74</td>\n",
              "      <td>60</td>\n",
              "      <td>45</td>\n",
              "      <td>67</td>\n",
              "      <td>49</td>\n",
              "      <td>43</td>\n",
              "      <td>93</td>\n",
              "      <td>75</td>\n",
              "      <td>57</td>\n",
              "      <td>29.86</td>\n",
              "      <td>29.68</td>\n",
              "      <td>29.59</td>\n",
              "      <td>10</td>\n",
              "      <td>7</td>\n",
              "      <td>2</td>\n",
              "      <td>20</td>\n",
              "      <td>4</td>\n",
              "      <td>31</td>\n",
              "      <td>0.46</td>\n",
              "      <td>Rain , Thunderstorm</td>\n",
              "    </tr>\n",
              "    <tr>\n",
              "      <th>1</th>\n",
              "      <td>2013-12-22</td>\n",
              "      <td>56</td>\n",
              "      <td>48</td>\n",
              "      <td>39</td>\n",
              "      <td>43</td>\n",
              "      <td>36</td>\n",
              "      <td>28</td>\n",
              "      <td>93</td>\n",
              "      <td>68</td>\n",
              "      <td>43</td>\n",
              "      <td>30.41</td>\n",
              "      <td>30.13</td>\n",
              "      <td>29.87</td>\n",
              "      <td>10</td>\n",
              "      <td>10</td>\n",
              "      <td>5</td>\n",
              "      <td>16</td>\n",
              "      <td>6</td>\n",
              "      <td>25</td>\n",
              "      <td>0</td>\n",
              "      <td></td>\n",
              "    </tr>\n",
              "    <tr>\n",
              "      <th>2</th>\n",
              "      <td>2013-12-23</td>\n",
              "      <td>58</td>\n",
              "      <td>45</td>\n",
              "      <td>32</td>\n",
              "      <td>31</td>\n",
              "      <td>27</td>\n",
              "      <td>23</td>\n",
              "      <td>76</td>\n",
              "      <td>52</td>\n",
              "      <td>27</td>\n",
              "      <td>30.56</td>\n",
              "      <td>30.49</td>\n",
              "      <td>30.41</td>\n",
              "      <td>10</td>\n",
              "      <td>10</td>\n",
              "      <td>10</td>\n",
              "      <td>8</td>\n",
              "      <td>3</td>\n",
              "      <td>12</td>\n",
              "      <td>0</td>\n",
              "      <td></td>\n",
              "    </tr>\n",
              "    <tr>\n",
              "      <th>3</th>\n",
              "      <td>2013-12-24</td>\n",
              "      <td>61</td>\n",
              "      <td>46</td>\n",
              "      <td>31</td>\n",
              "      <td>36</td>\n",
              "      <td>28</td>\n",
              "      <td>21</td>\n",
              "      <td>89</td>\n",
              "      <td>56</td>\n",
              "      <td>22</td>\n",
              "      <td>30.56</td>\n",
              "      <td>30.45</td>\n",
              "      <td>30.3</td>\n",
              "      <td>10</td>\n",
              "      <td>10</td>\n",
              "      <td>7</td>\n",
              "      <td>12</td>\n",
              "      <td>4</td>\n",
              "      <td>20</td>\n",
              "      <td>0</td>\n",
              "      <td></td>\n",
              "    </tr>\n",
              "    <tr>\n",
              "      <th>4</th>\n",
              "      <td>2013-12-25</td>\n",
              "      <td>58</td>\n",
              "      <td>50</td>\n",
              "      <td>41</td>\n",
              "      <td>44</td>\n",
              "      <td>40</td>\n",
              "      <td>36</td>\n",
              "      <td>86</td>\n",
              "      <td>71</td>\n",
              "      <td>56</td>\n",
              "      <td>30.41</td>\n",
              "      <td>30.33</td>\n",
              "      <td>30.27</td>\n",
              "      <td>10</td>\n",
              "      <td>10</td>\n",
              "      <td>7</td>\n",
              "      <td>10</td>\n",
              "      <td>2</td>\n",
              "      <td>16</td>\n",
              "      <td>T</td>\n",
              "      <td></td>\n",
              "    </tr>\n",
              "  </tbody>\n",
              "</table>\n",
              "</div>"
            ],
            "text/plain": [
              "        Date  TempHighF  ...  PrecipitationSumInches               Events\n",
              "0 2013-12-21         74  ...                    0.46  Rain , Thunderstorm\n",
              "1 2013-12-22         56  ...                       0                     \n",
              "2 2013-12-23         58  ...                       0                     \n",
              "3 2013-12-24         61  ...                       0                     \n",
              "4 2013-12-25         58  ...                       T                     \n",
              "\n",
              "[5 rows x 21 columns]"
            ]
          },
          "metadata": {
            "tags": []
          },
          "execution_count": 135
        }
      ]
    },
    {
      "cell_type": "code",
      "metadata": {
        "id": "z7LlcjkU3FBe",
        "colab_type": "code",
        "colab": {}
      },
      "source": [
        "events = data[['Events']]"
      ],
      "execution_count": 0,
      "outputs": []
    },
    {
      "cell_type": "code",
      "metadata": {
        "id": "WnbUOtaE4P8L",
        "colab_type": "code",
        "outputId": "4af67131-85e0-484f-a0d8-c06077dfd9f8",
        "colab": {
          "base_uri": "https://localhost:8080/",
          "height": 534
        }
      },
      "source": [
        " \n",
        "events.Events.value_counts().plot(kind='bar', figsize=(10,5))\n",
        "  "
      ],
      "execution_count": 142,
      "outputs": [
        {
          "output_type": "execute_result",
          "data": {
            "text/plain": [
              "<matplotlib.axes._subplots.AxesSubplot at 0x7f6903d309b0>"
            ]
          },
          "metadata": {
            "tags": []
          },
          "execution_count": 142
        },
        {
          "output_type": "display_data",
          "data": {
            "image/png": "[encoded data removed]",
            "text/plain": [
              "<Figure size 720x360 with 1 Axes>"
            ]
          },
          "metadata": {
            "tags": []
          }
        }
      ]
    },
    {
      "cell_type": "code",
      "metadata": {
        "id": "Vmn_VlVN-r1L",
        "colab_type": "code",
        "colab": {}
      },
      "source": [
        "condition = data['Events'].str.contains(' ')\n",
        "to_be_kept = ['Date','TempAvgF', 'DewPointAvgF', 'HumidityAvgPercent', 'SeaLevelPressureAvgInches', 'Events']\n",
        "\n",
        "# excluding clear weather\n",
        "polished_data = data[condition == False]\n",
        "\n",
        "# i keep only a few choosen columns\n",
        "polished_data = polished_data.loc[:, polished_data.columns.intersection(to_be_kept)]\n",
        "X = polished_data[set(list(polished_data.columns))-set(['Events', 'Date'])]\n",
        "y = polished_data['Events']\n"
      ],
      "execution_count": 0,
      "outputs": []
    },
    {
      "cell_type": "code",
      "metadata": {
        "id": "cOTWzpPubQiR",
        "colab_type": "code",
        "colab": {}
      },
      "source": [
        "from sklearn import tree\n",
        "from sklearn.metrics import accuracy_score\n",
        "\n",
        "# this function generates n = len(max_depths) decision trees. Each of depth max_depths[i]\n",
        "# fits on x_train, y_train, predicts on x_test\n",
        "# returns classifiers and predictions\n",
        "def many_decision_trees(max_depths, criterion, x_train, y_train, x_test, y_test):\n",
        "    clf_array = []\n",
        "    predictions_array = []\n",
        "    \n",
        "    for depth in max_depths:\n",
        "        clf = tree.DecisionTreeClassifier(max_depth=depth, criterion=criterion)\n",
        "        clf = clf.fit(x_train, y_train) \n",
        "        prediction = clf.predict(x_test)\n",
        "        \n",
        "        print('Tree depth: {} Accuracy: {}'.format(depth, accuracy_score(y_test, prediction)))\n",
        "        \n",
        "        clf_array.append(clf)\n",
        "        predictions_array.append(prediction)\n",
        "    return clf_array, predictions_array"
      ],
      "execution_count": 0,
      "outputs": []
    },
    {
      "cell_type": "code",
      "metadata": {
        "id": "5qTd1fzS-8bn",
        "colab_type": "code",
        "outputId": "ea2a454b-1fef-4291-8f1d-41a754185098",
        "colab": {
          "base_uri": "https://localhost:8080/",
          "height": 303
        }
      },
      "source": [
        "from sklearn.model_selection import train_test_split\n",
        "\n",
        "X_train, X_test, y_train, y_test = train_test_split(X, y, test_size=0.33, random_state=42)\n",
        "\n",
        "depths = list(range(3, 8))\n",
        "\n",
        "# lets try the decision tree\n",
        "# first predicting on training data\n",
        "print('Prediction on training data -------------------------')\n",
        "clfs_tr, predictions_tr = many_decision_trees(depths, 'entropy', X_train, y_train, X_train, y_train)  \n",
        "\n",
        "# then predicting on test data\n",
        "print('\\nPrediction on test data -----------------------------')\n",
        "clfs_te, predictions_te = many_decision_trees(depths, 'entropy', X_train, y_train, X_test, y_test)  "
      ],
      "execution_count": 145,
      "outputs": [
        {
          "output_type": "stream",
          "text": [
            "Prediction on training data -------------------------\n",
            "Tree depth: 3 Accuracy: 0.8961038961038961\n",
            "Tree depth: 4 Accuracy: 0.9025974025974026\n",
            "Tree depth: 5 Accuracy: 0.9090909090909091\n",
            "Tree depth: 6 Accuracy: 0.935064935064935\n",
            "Tree depth: 7 Accuracy: 0.961038961038961\n",
            "\n",
            "Prediction on test data -----------------------------\n",
            "Tree depth: 3 Accuracy: 0.8157894736842105\n",
            "Tree depth: 4 Accuracy: 0.8157894736842105\n",
            "Tree depth: 5 Accuracy: 0.8157894736842105\n",
            "Tree depth: 6 Accuracy: 0.7894736842105263\n",
            "Tree depth: 7 Accuracy: 0.7894736842105263\n"
          ],
          "name": "stdout"
        }
      ]
    },
    {
      "cell_type": "code",
      "metadata": {
        "id": "9xlC-tEp_vsF",
        "colab_type": "code",
        "outputId": "1e2ba28b-fdeb-4f35-bf51-8ba62dadb2ad",
        "colab": {
          "base_uri": "https://localhost:8080/",
          "height": 344
        }
      },
      "source": [
        "data = pd.read_csv('austin_weather.csv', parse_dates=['Date'])\n",
        "\n",
        "to_be_kept = ['Date','TempAvgF', 'DewPointAvgF', 'HumidityAvgPercent', 'SeaLevelPressureAvgInches', 'Events']\n",
        "condition = data['Events'].str.contains(',')\n",
        "\n",
        "# first i remove instances of events that are in the form 'Fog, Rain, Thunderstorm'\n",
        "polished_data_2 = data[condition == False]\n",
        "\n",
        "polished_data_2 = polished_data_2.loc[:, polished_data_2.columns.intersection(to_be_kept)]\n",
        "polished_data_2.Events.replace([' '], ['Clear'], inplace=True)\n",
        "\n",
        "# trying the code above with this data led to an error: ValueError: could not convert string to float: '-'\n",
        "# this means we are missing some data in the dataset, for scikit-learn's to understand a value as missing it needs to be NaN\n",
        "# so we replace '-' with NaN\n",
        "polished_data_2 = polished_data_2.replace('-', float('NaN'))\n",
        "\n",
        "X = polished_data_2[set(list(polished_data_2.columns))-set(['Events', 'Date'])]\n",
        "# Date to days of year since integers are easier to deal with\n",
        "days_of_year = [date.dayofyear for date in polished_data_2['Date']]\n",
        "X['DayOfYear'] = days_of_year\n",
        "y = polished_data_2['Events']\n",
        "X.head()"
      ],
      "execution_count": 146,
      "outputs": [
        {
          "output_type": "stream",
          "text": [
            "/usr/local/lib/python3.6/dist-packages/ipykernel_launcher.py:20: SettingWithCopyWarning: \n",
            "A value is trying to be set on a copy of a slice from a DataFrame.\n",
            "Try using .loc[row_indexer,col_indexer] = value instead\n",
            "\n",
            "See the caveats in the documentation: https://pandas.pydata.org/pandas-docs/stable/user_guide/indexing.html#returning-a-view-versus-a-copy\n"
          ],
          "name": "stderr"
        },
        {
          "output_type": "execute_result",
          "data": {
            "text/html": [
              "<div>\n",
              "<style scoped>\n",
              "    .dataframe tbody tr th:only-of-type {\n",
              "        vertical-align: middle;\n",
              "    }\n",
              "\n",
              "    .dataframe tbody tr th {\n",
              "        vertical-align: top;\n",
              "    }\n",
              "\n",
              "    .dataframe thead th {\n",
              "        text-align: right;\n",
              "    }\n",
              "</style>\n",
              "<table border=\"1\" class=\"dataframe\">\n",
              "  <thead>\n",
              "    <tr style=\"text-align: right;\">\n",
              "      <th></th>\n",
              "      <th>SeaLevelPressureAvgInches</th>\n",
              "      <th>DewPointAvgF</th>\n",
              "      <th>HumidityAvgPercent</th>\n",
              "      <th>TempAvgF</th>\n",
              "      <th>DayOfYear</th>\n",
              "    </tr>\n",
              "  </thead>\n",
              "  <tbody>\n",
              "    <tr>\n",
              "      <th>1</th>\n",
              "      <td>30.13</td>\n",
              "      <td>36</td>\n",
              "      <td>68</td>\n",
              "      <td>48</td>\n",
              "      <td>356</td>\n",
              "    </tr>\n",
              "    <tr>\n",
              "      <th>2</th>\n",
              "      <td>30.49</td>\n",
              "      <td>27</td>\n",
              "      <td>52</td>\n",
              "      <td>45</td>\n",
              "      <td>357</td>\n",
              "    </tr>\n",
              "    <tr>\n",
              "      <th>3</th>\n",
              "      <td>30.45</td>\n",
              "      <td>28</td>\n",
              "      <td>56</td>\n",
              "      <td>46</td>\n",
              "      <td>358</td>\n",
              "    </tr>\n",
              "    <tr>\n",
              "      <th>4</th>\n",
              "      <td>30.33</td>\n",
              "      <td>40</td>\n",
              "      <td>71</td>\n",
              "      <td>50</td>\n",
              "      <td>359</td>\n",
              "    </tr>\n",
              "    <tr>\n",
              "      <th>5</th>\n",
              "      <td>30.4</td>\n",
              "      <td>36</td>\n",
              "      <td>63</td>\n",
              "      <td>48</td>\n",
              "      <td>360</td>\n",
              "    </tr>\n",
              "  </tbody>\n",
              "</table>\n",
              "</div>"
            ],
            "text/plain": [
              "  SeaLevelPressureAvgInches DewPointAvgF  ... TempAvgF  DayOfYear\n",
              "1                     30.13           36  ...       48        356\n",
              "2                     30.49           27  ...       45        357\n",
              "3                     30.45           28  ...       46        358\n",
              "4                     30.33           40  ...       50        359\n",
              "5                      30.4           36  ...       48        360\n",
              "\n",
              "[5 rows x 5 columns]"
            ]
          },
          "metadata": {
            "tags": []
          },
          "execution_count": 146
        }
      ]
    },
    {
      "cell_type": "code",
      "metadata": {
        "id": "x46L2zlRA5zM",
        "colab_type": "code",
        "outputId": "70bec4ba-002f-4b83-9331-4ab3567a22b8",
        "colab": {
          "base_uri": "https://localhost:8080/",
          "height": 303
        }
      },
      "source": [
        "X_train, X_test, y_train, y_test = train_test_split(X, y, test_size=0.50, random_state=42)\n",
        "\n",
        "from sklearn.impute import SimpleImputer\n",
        "\n",
        "imp = SimpleImputer(missing_values=float('NaN'), strategy='mean')\n",
        "imp = imp.fit(X_train)\n",
        "X_train = imp.transform(X_train)\n",
        "imp = imp.fit(X_test)\n",
        "X_test = imp.transform(X_test)\n",
        "    \n",
        "depths = list(range(3, 8))\n",
        "# lets try the decision tree\n",
        "# first predicting on training data\n",
        "print('Prediction on training data -------------------------')\n",
        "clfs_tr, predictions_tr = many_decision_trees(depths, 'entropy', X_train, y_train, X_train, y_train)  \n",
        "\n",
        "# then predicting on test data\n",
        "print('\\nPrediction on test data -----------------------------')\n",
        "clfs_te, predictions_te = many_decision_trees(depths, 'entropy', X_train, y_train, X_test, y_test)  "
      ],
      "execution_count": 150,
      "outputs": [
        {
          "output_type": "stream",
          "text": [
            "Prediction on training data -------------------------\n",
            "Tree depth: 3 Accuracy: 0.8462897526501767\n",
            "Tree depth: 4 Accuracy: 0.8586572438162544\n",
            "Tree depth: 5 Accuracy: 0.8745583038869258\n",
            "Tree depth: 6 Accuracy: 0.8851590106007067\n",
            "Tree depth: 7 Accuracy: 0.9081272084805654\n",
            "\n",
            "Prediction on test data -----------------------------\n",
            "Tree depth: 3 Accuracy: 0.8306878306878307\n",
            "Tree depth: 4 Accuracy: 0.8218694885361552\n",
            "Tree depth: 5 Accuracy: 0.8236331569664903\n",
            "Tree depth: 6 Accuracy: 0.8148148148148148\n",
            "Tree depth: 7 Accuracy: 0.7865961199294532\n"
          ],
          "name": "stdout"
        }
      ]
    },
    {
      "cell_type": "code",
      "metadata": {
        "id": "5TFpNSKFDYXV",
        "colab_type": "code",
        "outputId": "fd5a35b7-9358-4c9b-a513-5beef28a7f87",
        "colab": {
          "base_uri": "https://localhost:8080/",
          "height": 663
        }
      },
      "source": [
        "# again printing the tree\n",
        "print('Classes: {}'.format(clfs_te[0].classes_))\n",
        "print('Features: {}'.format(list(X)))\n",
        "\n",
        "dot_data = tree.export_graphviz(clfs_te[0], out_file=None, rounded=True, class_names=clfs_te[0].classes_, \n",
        "                                feature_names=list(X), filled=True)\n",
        "graph = graphviz.Source(dot_data) \n",
        "graph"
      ],
      "execution_count": 151,
      "outputs": [
        {
          "output_type": "stream",
          "text": [
            "Classes: ['Clear' 'Fog' 'Rain' 'Thunderstorm']\n",
            "Features: ['SeaLevelPressureAvgInches', 'DewPointAvgF', 'HumidityAvgPercent', 'TempAvgF', 'DayOfYear']\n"
          ],
          "name": "stdout"
        },
        {
          "output_type": "execute_result",
          "data": {
            "text/plain": [
              "<graphviz.files.Source at 0x7f68e696b630>"
            ],
            "image/svg+xml": "<?xml version=\"1.0\" encoding=\"UTF-8\" standalone=\"no\"?>\n<!DOCTYPE svg PUBLIC \"-//W3C//DTD SVG 1.1//EN\"\n \"http://www.w3.org/Graphics/SVG/1.1/DTD/svg11.dtd\">\n<!-- Generated by graphviz version 2.40.1 (20161225.0304)\n -->\n<!-- Title: Tree Pages: 1 -->\n<svg width=\"1278pt\" height=\"433pt\"\n viewBox=\"0.00 0.00 1278.00 433.00\" xmlns=\"http://www.w3.org/2000/svg\" xmlns:xlink=\"http://www.w3.org/1999/xlink\">\n<g id=\"graph0\" class=\"graph\" transform=\"scale(1 1) rotate(0) translate(4 429)\">\n<title>Tree</title>\n<polygon fill=\"#ffffff\" stroke=\"transparent\" points=\"-4,4 -4,-429 1274,-429 1274,4 -4,4\"/>\n<!-- 0 -->\n<g id=\"node1\" class=\"node\">\n<title>0</title>\n<path fill=\"#eca16b\" stroke=\"#000000\" d=\"M710,-425C710,-425 533,-425 533,-425 527,-425 521,-419 521,-413 521,-413 521,-354 521,-354 521,-348 527,-342 533,-342 533,-342 710,-342 710,-342 716,-342 722,-348 722,-354 722,-354 722,-413 722,-413 722,-419 716,-425 710,-425\"/>\n<text text-anchor=\"middle\" x=\"621.5\" y=\"-409.8\" font-family=\"Helvetica,sans-Serif\" font-size=\"14.00\" fill=\"#000000\">HumidityAvgPercent &lt;= 74.5</text>\n<text text-anchor=\"middle\" x=\"621.5\" y=\"-394.8\" font-family=\"Helvetica,sans-Serif\" font-size=\"14.00\" fill=\"#000000\">entropy = 0.869</text>\n<text text-anchor=\"middle\" x=\"621.5\" y=\"-379.8\" font-family=\"Helvetica,sans-Serif\" font-size=\"14.00\" fill=\"#000000\">samples = 566</text>\n<text text-anchor=\"middle\" x=\"621.5\" y=\"-364.8\" font-family=\"Helvetica,sans-Serif\" font-size=\"14.00\" fill=\"#000000\">value = [449, 8, 103, 6]</text>\n<text text-anchor=\"middle\" x=\"621.5\" y=\"-349.8\" font-family=\"Helvetica,sans-Serif\" font-size=\"14.00\" fill=\"#000000\">class = Clear</text>\n</g>\n<!-- 1 -->\n<g id=\"node2\" class=\"node\">\n<title>1</title>\n<path fill=\"#e89051\" stroke=\"#000000\" d=\"M601,-306C601,-306 424,-306 424,-306 418,-306 412,-300 412,-294 412,-294 412,-235 412,-235 412,-229 418,-223 424,-223 424,-223 601,-223 601,-223 607,-223 613,-229 613,-235 613,-235 613,-294 613,-294 613,-300 607,-306 601,-306\"/>\n<text text-anchor=\"middle\" x=\"512.5\" y=\"-290.8\" font-family=\"Helvetica,sans-Serif\" font-size=\"14.00\" fill=\"#000000\">HumidityAvgPercent &lt;= 67.5</text>\n<text text-anchor=\"middle\" x=\"512.5\" y=\"-275.8\" font-family=\"Helvetica,sans-Serif\" font-size=\"14.00\" fill=\"#000000\">entropy = 0.601</text>\n<text text-anchor=\"middle\" x=\"512.5\" y=\"-260.8\" font-family=\"Helvetica,sans-Serif\" font-size=\"14.00\" fill=\"#000000\">samples = 455</text>\n<text text-anchor=\"middle\" x=\"512.5\" y=\"-245.8\" font-family=\"Helvetica,sans-Serif\" font-size=\"14.00\" fill=\"#000000\">value = [405, 5, 40, 5]</text>\n<text text-anchor=\"middle\" x=\"512.5\" y=\"-230.8\" font-family=\"Helvetica,sans-Serif\" font-size=\"14.00\" fill=\"#000000\">class = Clear</text>\n</g>\n<!-- 0&#45;&gt;1 -->\n<g id=\"edge1\" class=\"edge\">\n<title>0&#45;&gt;1</title>\n<path fill=\"none\" stroke=\"#000000\" d=\"M583.3771,-341.8796C575.0451,-332.7832 566.1502,-323.0722 557.5761,-313.7116\"/>\n<polygon fill=\"#000000\" stroke=\"#000000\" points=\"560.1211,-311.3081 550.7856,-306.2981 554.9592,-316.0363 560.1211,-311.3081\"/>\n<text text-anchor=\"middle\" x=\"549.6902\" y=\"-327.5741\" font-family=\"Helvetica,sans-Serif\" font-size=\"14.00\" fill=\"#000000\">True</text>\n</g>\n<!-- 8 -->\n<g id=\"node9\" class=\"node\">\n<title>8</title>\n<path fill=\"#c7e3f8\" stroke=\"#000000\" d=\"M869,-306C869,-306 692,-306 692,-306 686,-306 680,-300 680,-294 680,-294 680,-235 680,-235 680,-229 686,-223 692,-223 692,-223 869,-223 869,-223 875,-223 881,-229 881,-235 881,-235 881,-294 881,-294 881,-300 875,-306 869,-306\"/>\n<text text-anchor=\"middle\" x=\"780.5\" y=\"-290.8\" font-family=\"Helvetica,sans-Serif\" font-size=\"14.00\" fill=\"#000000\">HumidityAvgPercent &lt;= 88.5</text>\n<text text-anchor=\"middle\" x=\"780.5\" y=\"-275.8\" font-family=\"Helvetica,sans-Serif\" font-size=\"14.00\" fill=\"#000000\">entropy = 1.195</text>\n<text text-anchor=\"middle\" x=\"780.5\" y=\"-260.8\" font-family=\"Helvetica,sans-Serif\" font-size=\"14.00\" fill=\"#000000\">samples = 111</text>\n<text text-anchor=\"middle\" x=\"780.5\" y=\"-245.8\" font-family=\"Helvetica,sans-Serif\" font-size=\"14.00\" fill=\"#000000\">value = [44, 3, 63, 1]</text>\n<text text-anchor=\"middle\" x=\"780.5\" y=\"-230.8\" font-family=\"Helvetica,sans-Serif\" font-size=\"14.00\" fill=\"#000000\">class = Rain</text>\n</g>\n<!-- 0&#45;&gt;8 -->\n<g id=\"edge8\" class=\"edge\">\n<title>0&#45;&gt;8</title>\n<path fill=\"none\" stroke=\"#000000\" d=\"M677.1105,-341.8796C689.9403,-332.2774 703.6852,-321.9903 716.8286,-312.1534\"/>\n<polygon fill=\"#000000\" stroke=\"#000000\" points=\"719.0121,-314.891 724.9209,-306.0969 714.8177,-309.2868 719.0121,-314.891\"/>\n<text text-anchor=\"middle\" x=\"721.3605\" y=\"-327.1421\" font-family=\"Helvetica,sans-Serif\" font-size=\"14.00\" fill=\"#000000\">False</text>\n</g>\n<!-- 2 -->\n<g id=\"node3\" class=\"node\">\n<title>2</title>\n<path fill=\"#e78946\" stroke=\"#000000\" d=\"M308,-187C308,-187 177,-187 177,-187 171,-187 165,-181 165,-175 165,-175 165,-116 165,-116 165,-110 171,-104 177,-104 177,-104 308,-104 308,-104 314,-104 320,-110 320,-116 320,-116 320,-175 320,-175 320,-181 314,-187 308,-187\"/>\n<text text-anchor=\"middle\" x=\"242.5\" y=\"-171.8\" font-family=\"Helvetica,sans-Serif\" font-size=\"14.00\" fill=\"#000000\">TempAvgF &lt;= 87.5</text>\n<text text-anchor=\"middle\" x=\"242.5\" y=\"-156.8\" font-family=\"Helvetica,sans-Serif\" font-size=\"14.00\" fill=\"#000000\">entropy = 0.387</text>\n<text text-anchor=\"middle\" x=\"242.5\" y=\"-141.8\" font-family=\"Helvetica,sans-Serif\" font-size=\"14.00\" fill=\"#000000\">samples = 306</text>\n<text text-anchor=\"middle\" x=\"242.5\" y=\"-126.8\" font-family=\"Helvetica,sans-Serif\" font-size=\"14.00\" fill=\"#000000\">value = [287, 0, 14, 5]</text>\n<text text-anchor=\"middle\" x=\"242.5\" y=\"-111.8\" font-family=\"Helvetica,sans-Serif\" font-size=\"14.00\" fill=\"#000000\">class = Clear</text>\n</g>\n<!-- 1&#45;&gt;2 -->\n<g id=\"edge2\" class=\"edge\">\n<title>1&#45;&gt;2</title>\n<path fill=\"none\" stroke=\"#000000\" d=\"M418.0671,-222.8796C389.3756,-210.2341 357.9892,-196.4008 329.7899,-183.9722\"/>\n<polygon fill=\"#000000\" stroke=\"#000000\" points=\"330.9197,-180.6453 320.3574,-179.8149 328.0965,-187.0508 330.9197,-180.6453\"/>\n</g>\n<!-- 5 -->\n<g id=\"node6\" class=\"node\">\n<title>5</title>\n<path fill=\"#eca16b\" stroke=\"#000000\" d=\"M578,-187C578,-187 447,-187 447,-187 441,-187 435,-181 435,-175 435,-175 435,-116 435,-116 435,-110 441,-104 447,-104 447,-104 578,-104 578,-104 584,-104 590,-110 590,-116 590,-116 590,-175 590,-175 590,-181 584,-187 578,-187\"/>\n<text text-anchor=\"middle\" x=\"512.5\" y=\"-171.8\" font-family=\"Helvetica,sans-Serif\" font-size=\"14.00\" fill=\"#000000\">TempAvgF &lt;= 68.5</text>\n<text text-anchor=\"middle\" x=\"512.5\" y=\"-156.8\" font-family=\"Helvetica,sans-Serif\" font-size=\"14.00\" fill=\"#000000\">entropy = 0.87</text>\n<text text-anchor=\"middle\" x=\"512.5\" y=\"-141.8\" font-family=\"Helvetica,sans-Serif\" font-size=\"14.00\" fill=\"#000000\">samples = 149</text>\n<text text-anchor=\"middle\" x=\"512.5\" y=\"-126.8\" font-family=\"Helvetica,sans-Serif\" font-size=\"14.00\" fill=\"#000000\">value = [118, 5, 26, 0]</text>\n<text text-anchor=\"middle\" x=\"512.5\" y=\"-111.8\" font-family=\"Helvetica,sans-Serif\" font-size=\"14.00\" fill=\"#000000\">class = Clear</text>\n</g>\n<!-- 1&#45;&gt;5 -->\n<g id=\"edge5\" class=\"edge\">\n<title>1&#45;&gt;5</title>\n<path fill=\"none\" stroke=\"#000000\" d=\"M512.5,-222.8796C512.5,-214.6838 512.5,-205.9891 512.5,-197.5013\"/>\n<polygon fill=\"#000000\" stroke=\"#000000\" points=\"516.0001,-197.298 512.5,-187.2981 509.0001,-197.2981 516.0001,-197.298\"/>\n</g>\n<!-- 3 -->\n<g id=\"node4\" class=\"node\">\n<title>3</title>\n<path fill=\"#e78a47\" stroke=\"#000000\" d=\"M143,-68C143,-68 12,-68 12,-68 6,-68 0,-62 0,-56 0,-56 0,-12 0,-12 0,-6 6,0 12,0 12,0 143,0 143,0 149,0 155,-6 155,-12 155,-12 155,-56 155,-56 155,-62 149,-68 143,-68\"/>\n<text text-anchor=\"middle\" x=\"77.5\" y=\"-52.8\" font-family=\"Helvetica,sans-Serif\" font-size=\"14.00\" fill=\"#000000\">entropy = 0.384</text>\n<text text-anchor=\"middle\" x=\"77.5\" y=\"-37.8\" font-family=\"Helvetica,sans-Serif\" font-size=\"14.00\" fill=\"#000000\">samples = 245</text>\n<text text-anchor=\"middle\" x=\"77.5\" y=\"-22.8\" font-family=\"Helvetica,sans-Serif\" font-size=\"14.00\" fill=\"#000000\">value = [229, 0, 14, 2]</text>\n<text text-anchor=\"middle\" x=\"77.5\" y=\"-7.8\" font-family=\"Helvetica,sans-Serif\" font-size=\"14.00\" fill=\"#000000\">class = Clear</text>\n</g>\n<!-- 2&#45;&gt;3 -->\n<g id=\"edge3\" class=\"edge\">\n<title>2&#45;&gt;3</title>\n<path fill=\"none\" stroke=\"#000000\" d=\"M181.0601,-103.9815C166.4309,-94.0957 150.8549,-83.5701 136.3452,-73.7651\"/>\n<polygon fill=\"#000000\" stroke=\"#000000\" points=\"138.1859,-70.7848 127.9406,-68.0856 134.2665,-76.5847 138.1859,-70.7848\"/>\n</g>\n<!-- 4 -->\n<g id=\"node5\" class=\"node\">\n<title>4</title>\n<path fill=\"#e68843\" stroke=\"#000000\" d=\"M300,-68C300,-68 185,-68 185,-68 179,-68 173,-62 173,-56 173,-56 173,-12 173,-12 173,-6 179,0 185,0 185,0 300,0 300,0 306,0 312,-6 312,-12 312,-12 312,-56 312,-56 312,-62 306,-68 300,-68\"/>\n<text text-anchor=\"middle\" x=\"242.5\" y=\"-52.8\" font-family=\"Helvetica,sans-Serif\" font-size=\"14.00\" fill=\"#000000\">entropy = 0.283</text>\n<text text-anchor=\"middle\" x=\"242.5\" y=\"-37.8\" font-family=\"Helvetica,sans-Serif\" font-size=\"14.00\" fill=\"#000000\">samples = 61</text>\n<text text-anchor=\"middle\" x=\"242.5\" y=\"-22.8\" font-family=\"Helvetica,sans-Serif\" font-size=\"14.00\" fill=\"#000000\">value = [58, 0, 0, 3]</text>\n<text text-anchor=\"middle\" x=\"242.5\" y=\"-7.8\" font-family=\"Helvetica,sans-Serif\" font-size=\"14.00\" fill=\"#000000\">class = Clear</text>\n</g>\n<!-- 2&#45;&gt;4 -->\n<g id=\"edge4\" class=\"edge\">\n<title>2&#45;&gt;4</title>\n<path fill=\"none\" stroke=\"#000000\" d=\"M242.5,-103.9815C242.5,-95.618 242.5,-86.7965 242.5,-78.3409\"/>\n<polygon fill=\"#000000\" stroke=\"#000000\" points=\"246.0001,-78.2636 242.5,-68.2637 239.0001,-78.2637 246.0001,-78.2636\"/>\n</g>\n<!-- 6 -->\n<g id=\"node7\" class=\"node\">\n<title>6</title>\n<path fill=\"#f3c4a2\" stroke=\"#000000\" d=\"M465,-68C465,-68 342,-68 342,-68 336,-68 330,-62 330,-56 330,-56 330,-12 330,-12 330,-6 336,0 342,0 342,0 465,0 465,0 471,0 477,-6 477,-12 477,-12 477,-56 477,-56 477,-62 471,-68 465,-68\"/>\n<text text-anchor=\"middle\" x=\"403.5\" y=\"-52.8\" font-family=\"Helvetica,sans-Serif\" font-size=\"14.00\" fill=\"#000000\">entropy = 1.3</text>\n<text text-anchor=\"middle\" x=\"403.5\" y=\"-37.8\" font-family=\"Helvetica,sans-Serif\" font-size=\"14.00\" fill=\"#000000\">samples = 44</text>\n<text text-anchor=\"middle\" x=\"403.5\" y=\"-22.8\" font-family=\"Helvetica,sans-Serif\" font-size=\"14.00\" fill=\"#000000\">value = [27, 5, 12, 0]</text>\n<text text-anchor=\"middle\" x=\"403.5\" y=\"-7.8\" font-family=\"Helvetica,sans-Serif\" font-size=\"14.00\" fill=\"#000000\">class = Clear</text>\n</g>\n<!-- 5&#45;&gt;6 -->\n<g id=\"edge6\" class=\"edge\">\n<title>5&#45;&gt;6</title>\n<path fill=\"none\" stroke=\"#000000\" d=\"M471.9124,-103.9815C462.838,-94.6989 453.2121,-84.8522 444.1357,-75.5677\"/>\n<polygon fill=\"#000000\" stroke=\"#000000\" points=\"446.4887,-72.9678 436.9954,-68.2637 441.4831,-77.8611 446.4887,-72.9678\"/>\n</g>\n<!-- 7 -->\n<g id=\"node8\" class=\"node\">\n<title>7</title>\n<path fill=\"#e99457\" stroke=\"#000000\" d=\"M630,-68C630,-68 507,-68 507,-68 501,-68 495,-62 495,-56 495,-56 495,-12 495,-12 495,-6 501,0 507,0 507,0 630,0 630,0 636,0 642,-6 642,-12 642,-12 642,-56 642,-56 642,-62 636,-68 630,-68\"/>\n<text text-anchor=\"middle\" x=\"568.5\" y=\"-52.8\" font-family=\"Helvetica,sans-Serif\" font-size=\"14.00\" fill=\"#000000\">entropy = 0.567</text>\n<text text-anchor=\"middle\" x=\"568.5\" y=\"-37.8\" font-family=\"Helvetica,sans-Serif\" font-size=\"14.00\" fill=\"#000000\">samples = 105</text>\n<text text-anchor=\"middle\" x=\"568.5\" y=\"-22.8\" font-family=\"Helvetica,sans-Serif\" font-size=\"14.00\" fill=\"#000000\">value = [91, 0, 14, 0]</text>\n<text text-anchor=\"middle\" x=\"568.5\" y=\"-7.8\" font-family=\"Helvetica,sans-Serif\" font-size=\"14.00\" fill=\"#000000\">class = Clear</text>\n</g>\n<!-- 5&#45;&gt;7 -->\n<g id=\"edge7\" class=\"edge\">\n<title>5&#45;&gt;7</title>\n<path fill=\"none\" stroke=\"#000000\" d=\"M533.3523,-103.9815C537.7375,-95.2504 542.3733,-86.0202 546.789,-77.2281\"/>\n<polygon fill=\"#000000\" stroke=\"#000000\" points=\"549.9308,-78.7708 551.2913,-68.2637 543.6754,-75.6291 549.9308,-78.7708\"/>\n</g>\n<!-- 9 -->\n<g id=\"node10\" class=\"node\">\n<title>9</title>\n<path fill=\"#fefaf7\" stroke=\"#000000\" d=\"M869,-187C869,-187 692,-187 692,-187 686,-187 680,-181 680,-175 680,-175 680,-116 680,-116 680,-110 686,-104 692,-104 692,-104 869,-104 869,-104 875,-104 881,-110 881,-116 881,-116 881,-175 881,-175 881,-181 875,-187 869,-187\"/>\n<text text-anchor=\"middle\" x=\"780.5\" y=\"-171.8\" font-family=\"Helvetica,sans-Serif\" font-size=\"14.00\" fill=\"#000000\">HumidityAvgPercent &lt;= 81.5</text>\n<text text-anchor=\"middle\" x=\"780.5\" y=\"-156.8\" font-family=\"Helvetica,sans-Serif\" font-size=\"14.00\" fill=\"#000000\">entropy = 1.21</text>\n<text text-anchor=\"middle\" x=\"780.5\" y=\"-141.8\" font-family=\"Helvetica,sans-Serif\" font-size=\"14.00\" fill=\"#000000\">samples = 89</text>\n<text text-anchor=\"middle\" x=\"780.5\" y=\"-126.8\" font-family=\"Helvetica,sans-Serif\" font-size=\"14.00\" fill=\"#000000\">value = [44, 2, 42, 1]</text>\n<text text-anchor=\"middle\" x=\"780.5\" y=\"-111.8\" font-family=\"Helvetica,sans-Serif\" font-size=\"14.00\" fill=\"#000000\">class = Clear</text>\n</g>\n<!-- 8&#45;&gt;9 -->\n<g id=\"edge9\" class=\"edge\">\n<title>8&#45;&gt;9</title>\n<path fill=\"none\" stroke=\"#000000\" d=\"M780.5,-222.8796C780.5,-214.6838 780.5,-205.9891 780.5,-197.5013\"/>\n<polygon fill=\"#000000\" stroke=\"#000000\" points=\"784.0001,-197.298 780.5,-187.2981 777.0001,-197.2981 784.0001,-197.298\"/>\n</g>\n<!-- 12 -->\n<g id=\"node13\" class=\"node\">\n<title>12</title>\n<path fill=\"#42a2e6\" stroke=\"#000000\" d=\"M1136,-187C1136,-187 959,-187 959,-187 953,-187 947,-181 947,-175 947,-175 947,-116 947,-116 947,-110 953,-104 959,-104 959,-104 1136,-104 1136,-104 1142,-104 1148,-110 1148,-116 1148,-116 1148,-175 1148,-175 1148,-181 1142,-187 1136,-187\"/>\n<text text-anchor=\"middle\" x=\"1047.5\" y=\"-171.8\" font-family=\"Helvetica,sans-Serif\" font-size=\"14.00\" fill=\"#000000\">HumidityAvgPercent &lt;= 89.5</text>\n<text text-anchor=\"middle\" x=\"1047.5\" y=\"-156.8\" font-family=\"Helvetica,sans-Serif\" font-size=\"14.00\" fill=\"#000000\">entropy = 0.267</text>\n<text text-anchor=\"middle\" x=\"1047.5\" y=\"-141.8\" font-family=\"Helvetica,sans-Serif\" font-size=\"14.00\" fill=\"#000000\">samples = 22</text>\n<text text-anchor=\"middle\" x=\"1047.5\" y=\"-126.8\" font-family=\"Helvetica,sans-Serif\" font-size=\"14.00\" fill=\"#000000\">value = [0, 1, 21, 0]</text>\n<text text-anchor=\"middle\" x=\"1047.5\" y=\"-111.8\" font-family=\"Helvetica,sans-Serif\" font-size=\"14.00\" fill=\"#000000\">class = Rain</text>\n</g>\n<!-- 8&#45;&gt;12 -->\n<g id=\"edge12\" class=\"edge\">\n<title>8&#45;&gt;12</title>\n<path fill=\"none\" stroke=\"#000000\" d=\"M873.8836,-222.8796C896.8508,-212.6433 921.5643,-201.6286 944.9387,-191.2108\"/>\n<polygon fill=\"#000000\" stroke=\"#000000\" points=\"946.46,-194.3647 954.1691,-187.0969 943.6104,-187.971 946.46,-194.3647\"/>\n</g>\n<!-- 10 -->\n<g id=\"node11\" class=\"node\">\n<title>10</title>\n<path fill=\"#f7dbc6\" stroke=\"#000000\" d=\"M795,-68C795,-68 672,-68 672,-68 666,-68 660,-62 660,-56 660,-56 660,-12 660,-12 660,-6 666,0 672,0 672,0 795,0 795,0 801,0 807,-6 807,-12 807,-12 807,-56 807,-56 807,-62 801,-68 795,-68\"/>\n<text text-anchor=\"middle\" x=\"733.5\" y=\"-52.8\" font-family=\"Helvetica,sans-Serif\" font-size=\"14.00\" fill=\"#000000\">entropy = 1.148</text>\n<text text-anchor=\"middle\" x=\"733.5\" y=\"-37.8\" font-family=\"Helvetica,sans-Serif\" font-size=\"14.00\" fill=\"#000000\">samples = 63</text>\n<text text-anchor=\"middle\" x=\"733.5\" y=\"-22.8\" font-family=\"Helvetica,sans-Serif\" font-size=\"14.00\" fill=\"#000000\">value = [36, 2, 25, 0]</text>\n<text text-anchor=\"middle\" x=\"733.5\" y=\"-7.8\" font-family=\"Helvetica,sans-Serif\" font-size=\"14.00\" fill=\"#000000\">class = Clear</text>\n</g>\n<!-- 9&#45;&gt;10 -->\n<g id=\"edge10\" class=\"edge\">\n<title>9&#45;&gt;10</title>\n<path fill=\"none\" stroke=\"#000000\" d=\"M762.9989,-103.9815C759.3573,-95.3423 755.5097,-86.2144 751.8388,-77.5059\"/>\n<polygon fill=\"#000000\" stroke=\"#000000\" points=\"755.0525,-76.119 747.943,-68.2637 748.6021,-78.838 755.0525,-76.119\"/>\n</g>\n<!-- 11 -->\n<g id=\"node12\" class=\"node\">\n<title>11</title>\n<path fill=\"#9ccef2\" stroke=\"#000000\" d=\"M952,-68C952,-68 837,-68 837,-68 831,-68 825,-62 825,-56 825,-56 825,-12 825,-12 825,-6 831,0 837,0 837,0 952,0 952,0 958,0 964,-6 964,-12 964,-12 964,-56 964,-56 964,-62 958,-68 952,-68\"/>\n<text text-anchor=\"middle\" x=\"894.5\" y=\"-52.8\" font-family=\"Helvetica,sans-Serif\" font-size=\"14.00\" fill=\"#000000\">entropy = 1.105</text>\n<text text-anchor=\"middle\" x=\"894.5\" y=\"-37.8\" font-family=\"Helvetica,sans-Serif\" font-size=\"14.00\" fill=\"#000000\">samples = 26</text>\n<text text-anchor=\"middle\" x=\"894.5\" y=\"-22.8\" font-family=\"Helvetica,sans-Serif\" font-size=\"14.00\" fill=\"#000000\">value = [8, 0, 17, 1]</text>\n<text text-anchor=\"middle\" x=\"894.5\" y=\"-7.8\" font-family=\"Helvetica,sans-Serif\" font-size=\"14.00\" fill=\"#000000\">class = Rain</text>\n</g>\n<!-- 9&#45;&gt;11 -->\n<g id=\"edge11\" class=\"edge\">\n<title>9&#45;&gt;11</title>\n<path fill=\"none\" stroke=\"#000000\" d=\"M822.9494,-103.9815C832.5341,-94.607 842.707,-84.6572 852.2821,-75.2921\"/>\n<polygon fill=\"#000000\" stroke=\"#000000\" points=\"854.7663,-77.7581 859.4681,-68.2637 849.8717,-72.7538 854.7663,-77.7581\"/>\n</g>\n<!-- 13 -->\n<g id=\"node14\" class=\"node\">\n<title>13</title>\n<path fill=\"#9ccef2\" stroke=\"#000000\" d=\"M1101,-68C1101,-68 994,-68 994,-68 988,-68 982,-62 982,-56 982,-56 982,-12 982,-12 982,-6 988,0 994,0 994,0 1101,0 1101,0 1107,0 1113,-6 1113,-12 1113,-12 1113,-56 1113,-56 1113,-62 1107,-68 1101,-68\"/>\n<text text-anchor=\"middle\" x=\"1047.5\" y=\"-52.8\" font-family=\"Helvetica,sans-Serif\" font-size=\"14.00\" fill=\"#000000\">entropy = 0.918</text>\n<text text-anchor=\"middle\" x=\"1047.5\" y=\"-37.8\" font-family=\"Helvetica,sans-Serif\" font-size=\"14.00\" fill=\"#000000\">samples = 3</text>\n<text text-anchor=\"middle\" x=\"1047.5\" y=\"-22.8\" font-family=\"Helvetica,sans-Serif\" font-size=\"14.00\" fill=\"#000000\">value = [0, 1, 2, 0]</text>\n<text text-anchor=\"middle\" x=\"1047.5\" y=\"-7.8\" font-family=\"Helvetica,sans-Serif\" font-size=\"14.00\" fill=\"#000000\">class = Rain</text>\n</g>\n<!-- 12&#45;&gt;13 -->\n<g id=\"edge13\" class=\"edge\">\n<title>12&#45;&gt;13</title>\n<path fill=\"none\" stroke=\"#000000\" d=\"M1047.5,-103.9815C1047.5,-95.618 1047.5,-86.7965 1047.5,-78.3409\"/>\n<polygon fill=\"#000000\" stroke=\"#000000\" points=\"1051.0001,-78.2636 1047.5,-68.2637 1044.0001,-78.2637 1051.0001,-78.2636\"/>\n</g>\n<!-- 14 -->\n<g id=\"node15\" class=\"node\">\n<title>14</title>\n<path fill=\"#399de5\" stroke=\"#000000\" d=\"M1258,-68C1258,-68 1143,-68 1143,-68 1137,-68 1131,-62 1131,-56 1131,-56 1131,-12 1131,-12 1131,-6 1137,0 1143,0 1143,0 1258,0 1258,0 1264,0 1270,-6 1270,-12 1270,-12 1270,-56 1270,-56 1270,-62 1264,-68 1258,-68\"/>\n<text text-anchor=\"middle\" x=\"1200.5\" y=\"-52.8\" font-family=\"Helvetica,sans-Serif\" font-size=\"14.00\" fill=\"#000000\">entropy = 0.0</text>\n<text text-anchor=\"middle\" x=\"1200.5\" y=\"-37.8\" font-family=\"Helvetica,sans-Serif\" font-size=\"14.00\" fill=\"#000000\">samples = 19</text>\n<text text-anchor=\"middle\" x=\"1200.5\" y=\"-22.8\" font-family=\"Helvetica,sans-Serif\" font-size=\"14.00\" fill=\"#000000\">value = [0, 0, 19, 0]</text>\n<text text-anchor=\"middle\" x=\"1200.5\" y=\"-7.8\" font-family=\"Helvetica,sans-Serif\" font-size=\"14.00\" fill=\"#000000\">class = Rain</text>\n</g>\n<!-- 12&#45;&gt;14 -->\n<g id=\"edge14\" class=\"edge\">\n<title>12&#45;&gt;14</title>\n<path fill=\"none\" stroke=\"#000000\" d=\"M1104.4716,-103.9815C1117.8396,-94.2394 1132.0604,-83.8759 1145.3472,-74.193\"/>\n<polygon fill=\"#000000\" stroke=\"#000000\" points=\"1147.4632,-76.9819 1153.4835,-68.2637 1143.3405,-71.3247 1147.4632,-76.9819\"/>\n</g>\n</g>\n</svg>\n"
          },
          "metadata": {
            "tags": []
          },
          "execution_count": 151
        }
      ]
    },
    {
      "cell_type": "code",
      "metadata": {
        "id": "9TDlr9AcFWR8",
        "colab_type": "code",
        "outputId": "6c3ed9b1-6fae-41c0-86b4-0180018bb80e",
        "colab": {
          "base_uri": "https://localhost:8080/",
          "height": 127
        }
      },
      "source": [
        " classes_occurrences = polished_data_2['Events'].value_counts().to_frame()\n",
        "classes_occurrences = classes_occurrences.sort_index(axis=0)\n",
        "print(classes_occurrences)"
      ],
      "execution_count": 152,
      "outputs": [
        {
          "output_type": "stream",
          "text": [
            "              Events\n",
            "Clear            903\n",
            "Fog               21\n",
            "Rain             192\n",
            "Thunderstorm      17\n"
          ],
          "name": "stdout"
        }
      ]
    },
    {
      "cell_type": "code",
      "metadata": {
        "id": "gPIGhyd7uJPs",
        "colab_type": "code",
        "colab": {
          "base_uri": "https://localhost:8080/",
          "height": 443
        },
        "outputId": "fc9b0374-3789-4459-d74d-9d0ea82d8ed0"
      },
      "source": [
        "classes_occurrences.plot(kind='bar', figsize=(10,5))"
      ],
      "execution_count": 156,
      "outputs": [
        {
          "output_type": "execute_result",
          "data": {
            "text/plain": [
              "<matplotlib.axes._subplots.AxesSubplot at 0x7f690391f278>"
            ]
          },
          "metadata": {
            "tags": []
          },
          "execution_count": 156
        },
        {
          "output_type": "display_data",
          "data": {
            "image/png": "[encoded data removed]",
            "text/plain": [
              "<Figure size 720x360 with 1 Axes>"
            ]
          },
          "metadata": {
            "tags": []
          }
        }
      ]
    },
    {
      "cell_type": "code",
      "metadata": {
        "id": "RlNca6U2bcvr",
        "colab_type": "code",
        "colab": {
          "base_uri": "https://localhost:8080/",
          "height": 491
        },
        "outputId": "5538d544-9cdf-4dba-dae7-727d8bc60a87"
      },
      "source": [
        "from sklearn.metrics import confusion_matrix\n",
        "from sklearn.metrics import accuracy_score \n",
        "import pylab as pl\n",
        "import seaborn as sn\n",
        "labels = y_test.unique()\n",
        "test= y_test.head(566)\n",
        "train= y_train.head(566)\n",
        "cf= confusion_matrix(train,test)  \n",
        "print('Confusion matrix\\n\\n',cf,'\\n\\n')\n",
        "# accuracy= accuracy_score(y_test.head(566), y_train.head(566))  \n",
        "# print('Accuracy :',accuracy*100 ,'%')\n",
        "\n",
        "# printing confusion matrix with coloured columns \n",
        "df_cm= cf\n",
        "sn.set(font_scale=1.4) # for label size\n",
        "sn.heatmap( df_cm, annot_kws={\"size\": 20}) # font size\n",
        " \n",
        "plt.title('Confusion matrix')\n",
        "plt.show()\n",
        "\n",
        "accuracy= accuracy_score(train,test)  \n",
        "print('Accuracy of algorithm :',accuracy*100 ,'%')\n",
        " "
      ],
      "execution_count": 157,
      "outputs": [
        {
          "output_type": "stream",
          "text": [
            "Confusion matrix\n",
            "\n",
            " [[355  11  74   9]\n",
            " [  6   0   1   1]\n",
            " [ 87   2  13   1]\n",
            " [  5   0   1   0]] \n",
            "\n",
            "\n"
          ],
          "name": "stdout"
        },
        {
          "output_type": "display_data",
          "data": {
            "image/png": "[encoded data removed]",
            "text/plain": [
              "<Figure size 432x288 with 2 Axes>"
            ]
          },
          "metadata": {
            "tags": []
          }
        },
        {
          "output_type": "stream",
          "text": [
            "Accuracy of algorithm : 65.01766784452296 %\n"
          ],
          "name": "stdout"
        }
      ]
    },
    {
      "cell_type": "code",
      "metadata": {
        "id": "kiEFJT6nd65K",
        "colab_type": "code",
        "colab": {}
      },
      "source": [
        ""
      ],
      "execution_count": 0,
      "outputs": []
    },
    {
      "cell_type": "code",
      "metadata": {
        "id": "NgcxLfScrv9L",
        "colab_type": "code",
        "colab": {}
      },
      "source": [
        ""
      ],
      "execution_count": 0,
      "outputs": []
    }
  ]
}