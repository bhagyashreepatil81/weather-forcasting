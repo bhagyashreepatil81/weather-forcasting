{
  "nbformat": 4,
  "nbformat_minor": 0,
  "metadata": {
    "colab": {
      "name": "weather.ipynb",
      "provenance": [],
      "collapsed_sections": []
    },
    "kernelspec": {
      "name": "python3",
      "display_name": "Python 3"
    }
  },
  "cells": [
    {
      "cell_type": "code",
      "metadata": {
        "id": "MV29PMxf-k2C",
        "colab_type": "code",
        "outputId": "1a727ac5-7ffb-4dc1-b647-b699c599162a",
        "colab": {
          "base_uri": "https://localhost:8080/",
          "height": 386
        }
      },
      "source": [
        "import numpy as np\n",
        "import pandas as pd\n",
        "\n",
        "import graphviz\n",
        "import matplotlib.pyplot as plt\n",
        "\n",
        "data = pd.read_csv('austin_weather.csv', parse_dates=['Date'])\n",
        "print(data.shape)\n",
        "# df = data\n",
        "data.head()"
      ],
      "execution_count": 0,
      "outputs": [
        {
          "output_type": "stream",
          "text": [
            "(1319, 21)\n"
          ],
          "name": "stdout"
        },
        {
          "output_type": "execute_result",
          "data": {
            "text/html": [
              "<div>\n",
              "<style scoped>\n",
              "    .dataframe tbody tr th:only-of-type {\n",
              "        vertical-align: middle;\n",
              "    }\n",
              "\n",
              "    .dataframe tbody tr th {\n",
              "        vertical-align: top;\n",
              "    }\n",
              "\n",
              "    .dataframe thead th {\n",
              "        text-align: right;\n",
              "    }\n",
              "</style>\n",
              "<table border=\"1\" class=\"dataframe\">\n",
              "  <thead>\n",
              "    <tr style=\"text-align: right;\">\n",
              "      <th></th>\n",
              "      <th>Date</th>\n",
              "      <th>TempHighF</th>\n",
              "      <th>TempAvgF</th>\n",
              "      <th>TempLowF</th>\n",
              "      <th>DewPointHighF</th>\n",
              "      <th>DewPointAvgF</th>\n",
              "      <th>DewPointLowF</th>\n",
              "      <th>HumidityHighPercent</th>\n",
              "      <th>HumidityAvgPercent</th>\n",
              "      <th>HumidityLowPercent</th>\n",
              "      <th>SeaLevelPressureHighInches</th>\n",
              "      <th>SeaLevelPressureAvgInches</th>\n",
              "      <th>SeaLevelPressureLowInches</th>\n",
              "      <th>VisibilityHighMiles</th>\n",
              "      <th>VisibilityAvgMiles</th>\n",
              "      <th>VisibilityLowMiles</th>\n",
              "      <th>WindHighMPH</th>\n",
              "      <th>WindAvgMPH</th>\n",
              "      <th>WindGustMPH</th>\n",
              "      <th>PrecipitationSumInches</th>\n",
              "      <th>Events</th>\n",
              "    </tr>\n",
              "  </thead>\n",
              "  <tbody>\n",
              "    <tr>\n",
              "      <th>0</th>\n",
              "      <td>2013-12-21</td>\n",
              "      <td>74</td>\n",
              "      <td>60</td>\n",
              "      <td>45</td>\n",
              "      <td>67</td>\n",
              "      <td>49</td>\n",
              "      <td>43</td>\n",
              "      <td>93</td>\n",
              "      <td>75</td>\n",
              "      <td>57</td>\n",
              "      <td>29.86</td>\n",
              "      <td>29.68</td>\n",
              "      <td>29.59</td>\n",
              "      <td>10</td>\n",
              "      <td>7</td>\n",
              "      <td>2</td>\n",
              "      <td>20</td>\n",
              "      <td>4</td>\n",
              "      <td>31</td>\n",
              "      <td>0.46</td>\n",
              "      <td>Rain , Thunderstorm</td>\n",
              "    </tr>\n",
              "    <tr>\n",
              "      <th>1</th>\n",
              "      <td>2013-12-22</td>\n",
              "      <td>56</td>\n",
              "      <td>48</td>\n",
              "      <td>39</td>\n",
              "      <td>43</td>\n",
              "      <td>36</td>\n",
              "      <td>28</td>\n",
              "      <td>93</td>\n",
              "      <td>68</td>\n",
              "      <td>43</td>\n",
              "      <td>30.41</td>\n",
              "      <td>30.13</td>\n",
              "      <td>29.87</td>\n",
              "      <td>10</td>\n",
              "      <td>10</td>\n",
              "      <td>5</td>\n",
              "      <td>16</td>\n",
              "      <td>6</td>\n",
              "      <td>25</td>\n",
              "      <td>0</td>\n",
              "      <td></td>\n",
              "    </tr>\n",
              "    <tr>\n",
              "      <th>2</th>\n",
              "      <td>2013-12-23</td>\n",
              "      <td>58</td>\n",
              "      <td>45</td>\n",
              "      <td>32</td>\n",
              "      <td>31</td>\n",
              "      <td>27</td>\n",
              "      <td>23</td>\n",
              "      <td>76</td>\n",
              "      <td>52</td>\n",
              "      <td>27</td>\n",
              "      <td>30.56</td>\n",
              "      <td>30.49</td>\n",
              "      <td>30.41</td>\n",
              "      <td>10</td>\n",
              "      <td>10</td>\n",
              "      <td>10</td>\n",
              "      <td>8</td>\n",
              "      <td>3</td>\n",
              "      <td>12</td>\n",
              "      <td>0</td>\n",
              "      <td></td>\n",
              "    </tr>\n",
              "    <tr>\n",
              "      <th>3</th>\n",
              "      <td>2013-12-24</td>\n",
              "      <td>61</td>\n",
              "      <td>46</td>\n",
              "      <td>31</td>\n",
              "      <td>36</td>\n",
              "      <td>28</td>\n",
              "      <td>21</td>\n",
              "      <td>89</td>\n",
              "      <td>56</td>\n",
              "      <td>22</td>\n",
              "      <td>30.56</td>\n",
              "      <td>30.45</td>\n",
              "      <td>30.3</td>\n",
              "      <td>10</td>\n",
              "      <td>10</td>\n",
              "      <td>7</td>\n",
              "      <td>12</td>\n",
              "      <td>4</td>\n",
              "      <td>20</td>\n",
              "      <td>0</td>\n",
              "      <td></td>\n",
              "    </tr>\n",
              "    <tr>\n",
              "      <th>4</th>\n",
              "      <td>2013-12-25</td>\n",
              "      <td>58</td>\n",
              "      <td>50</td>\n",
              "      <td>41</td>\n",
              "      <td>44</td>\n",
              "      <td>40</td>\n",
              "      <td>36</td>\n",
              "      <td>86</td>\n",
              "      <td>71</td>\n",
              "      <td>56</td>\n",
              "      <td>30.41</td>\n",
              "      <td>30.33</td>\n",
              "      <td>30.27</td>\n",
              "      <td>10</td>\n",
              "      <td>10</td>\n",
              "      <td>7</td>\n",
              "      <td>10</td>\n",
              "      <td>2</td>\n",
              "      <td>16</td>\n",
              "      <td>T</td>\n",
              "      <td></td>\n",
              "    </tr>\n",
              "  </tbody>\n",
              "</table>\n",
              "</div>"
            ],
            "text/plain": [
              "        Date  TempHighF  ...  PrecipitationSumInches               Events\n",
              "0 2013-12-21         74  ...                    0.46  Rain , Thunderstorm\n",
              "1 2013-12-22         56  ...                       0                     \n",
              "2 2013-12-23         58  ...                       0                     \n",
              "3 2013-12-24         61  ...                       0                     \n",
              "4 2013-12-25         58  ...                       T                     \n",
              "\n",
              "[5 rows x 21 columns]"
            ]
          },
          "metadata": {
            "tags": []
          },
          "execution_count": 105
        }
      ]
    },
    {
      "cell_type": "code",
      "metadata": {
        "id": "z7LlcjkU3FBe",
        "colab_type": "code",
        "colab": {}
      },
      "source": [
        "events = data[['Events']].replace(' ', 'None')"
      ],
      "execution_count": 0,
      "outputs": []
    },
    {
      "cell_type": "code",
      "metadata": {
        "id": "WnbUOtaE4P8L",
        "colab_type": "code",
        "outputId": "f5c6366d-23d5-4e0f-9bdf-9bb66567142a",
        "colab": {
          "base_uri": "https://localhost:8080/",
          "height": 1000
        }
      },
      "source": [
        " \n",
        "events.Events.value_counts().plot(kind='bar', figsize=(10,5))\n",
        " \n",
        "data[['TempAvgF']].plot(kind='bar',figsize=(10,5))\n",
        "data[['TempHighF']].plot(kind='bar',figsize=(10,5))\n",
        "data[['TempLowF']].plot(kind='bar',figsize=(10,5))"
      ],
      "execution_count": 0,
      "outputs": [
        {
          "output_type": "execute_result",
          "data": {
            "text/plain": [
              "<matplotlib.axes._subplots.AxesSubplot at 0x7f61e7801358>"
            ]
          },
          "metadata": {
            "tags": []
          },
          "execution_count": 110
        },
        {
          "output_type": "display_data",
          "data": {
            "image/png": "[encoded data removed]",
            "text/plain": [
              "<Figure size 720x360 with 1 Axes>"
            ]
          },
          "metadata": {
            "tags": []
          }
        },
        {
          "output_type": "display_data",
          "data": {
            "image/png": "[encoded data removed]",
            "text/plain": [
              "<Figure size 720x360 with 1 Axes>"
            ]
          },
          "metadata": {
            "tags": []
          }
        },
        {
          "output_type": "display_data",
          "data": {
            "image/png": "[encoded data removed]",
            "text/plain": [
              "<Figure size 720x360 with 1 Axes>"
            ]
          },
          "metadata": {
            "tags": []
          }
        },
        {
          "output_type": "display_data",
          "data": {
            "image/png": "[encoded data removed]",
            "text/plain": [
              "<Figure size 720x360 with 1 Axes>"
            ]
          },
          "metadata": {
            "tags": []
          }
        }
      ]
    },
    {
      "cell_type": "code",
      "metadata": {
        "id": "Vmn_VlVN-r1L",
        "colab_type": "code",
        "colab": {}
      },
      "source": [
        "condition = data['Events'].str.contains(' ')\n",
        "to_be_kept = ['Date','TempAvgF', 'DewPointAvgF', 'HumidityAvgPercent', 'SeaLevelPressureAvgInches', 'Events']\n",
        "# preprocessing data\n",
        "# excluding clear weather\n",
        "polished_data = data[condition == False]\n",
        "\n",
        "# i keep only a few choosen columns\n",
        "polished_data = polished_data.loc[:, polished_data.columns.intersection(to_be_kept)]\n",
        "X = polished_data[set(list(polished_data.columns))-set(['Events', 'Date'])]\n",
        "y = polished_data['Events']\n"
      ],
      "execution_count": 0,
      "outputs": []
    },
    {
      "cell_type": "code",
      "metadata": {
        "id": "5qTd1fzS-8bn",
        "colab_type": "code",
        "outputId": "0d321438-6335-4f54-fdd2-90ce939c9ed3",
        "colab": {
          "base_uri": "https://localhost:8080/",
          "height": 303
        }
      },
      "source": [
        "from sklearn.model_selection import train_test_split\n",
        "\n",
        "X_train, X_test, y_train, y_test = train_test_split(X, y, test_size=0.33, random_state=42)\n",
        "\n",
        "depths = list(range(3, 8))\n",
        "\n",
        "#  decision tree\n",
        "# first predicting on training data\n",
        "print('Prediction on training data -------------------------')\n",
        "clfs_tr, predictions_tr = many_decision_trees(depths, 'entropy', X_train, y_train, X_train, y_train)  \n",
        "\n",
        "# then predicting on test data\n",
        "print('\\nPrediction on test data -----------------------------')\n",
        "clfs_te, predictions_te = many_decision_trees(depths, 'entropy', X_train, y_train, X_test, y_test)  "
      ],
      "execution_count": 0,
      "outputs": [
        {
          "output_type": "stream",
          "text": [
            "Prediction on training data -------------------------\n",
            "Tree depth: 3 Accuracy: 0.8961038961038961\n",
            "Tree depth: 4 Accuracy: 0.9025974025974026\n",
            "Tree depth: 5 Accuracy: 0.9090909090909091\n",
            "Tree depth: 6 Accuracy: 0.935064935064935\n",
            "Tree depth: 7 Accuracy: 0.961038961038961\n",
            "\n",
            "Prediction on test data -----------------------------\n",
            "Tree depth: 3 Accuracy: 0.8157894736842105\n",
            "Tree depth: 4 Accuracy: 0.8157894736842105\n",
            "Tree depth: 5 Accuracy: 0.8157894736842105\n",
            "Tree depth: 6 Accuracy: 0.7894736842105263\n",
            "Tree depth: 7 Accuracy: 0.7894736842105263\n"
          ],
          "name": "stdout"
        }
      ]
    },
    {
      "cell_type": "code",
      "metadata": {
        "id": "9xlC-tEp_vsF",
        "colab_type": "code",
        "outputId": "98f7881d-9677-4274-e53e-118b316c30ca",
        "colab": {
          "base_uri": "https://localhost:8080/",
          "height": 344
        }
      },
      "source": [
        "data = pd.read_csv('austin_weather.csv', parse_dates=['Date'])\n",
        "\n",
        "to_be_kept = ['Date','TempAvgF', 'DewPointAvgF', 'HumidityAvgPercent', 'SeaLevelPressureAvgInches', 'Events']\n",
        "condition = data['Events'].str.contains(',')\n",
        "\n",
        "# first i remove instances of events that are in the form 'Fog, Rain, Thunderstorm'\n",
        "polished_data_2 = data[condition == False]\n",
        "\n",
        "polished_data_2 = polished_data_2.loc[:, polished_data_2.columns.intersection(to_be_kept)]\n",
        "polished_data_2.Events.replace([' '], ['Clear'], inplace=True)\n",
        "\n",
        "# trying the code above with this data led to an error: ValueError: could not convert string to float: '-'\n",
        "# this means we are missing some data in the dataset, for scikit-learn's to understand a value as missing it needs to be NaN\n",
        "# so we replace '-' with NaN\n",
        "polished_data_2 = polished_data_2.replace('-', float('NaN'))\n",
        "\n",
        "X = polished_data_2[set(list(polished_data_2.columns))-set(['Events', 'Date'])]\n",
        "# Date to days of year since integers are easier to deal with\n",
        "days_of_year = [date.dayofyear for date in polished_data_2['Date']]\n",
        "X['DayOfYear'] = days_of_year\n",
        "y = polished_data_2['Events']\n",
        "X.head()"
      ],
      "execution_count": 0,
      "outputs": [
        {
          "output_type": "stream",
          "text": [
            "/usr/local/lib/python3.6/dist-packages/ipykernel_launcher.py:20: SettingWithCopyWarning: \n",
            "A value is trying to be set on a copy of a slice from a DataFrame.\n",
            "Try using .loc[row_indexer,col_indexer] = value instead\n",
            "\n",
            "See the caveats in the documentation: https://pandas.pydata.org/pandas-docs/stable/user_guide/indexing.html#returning-a-view-versus-a-copy\n"
          ],
          "name": "stderr"
        },
        {
          "output_type": "execute_result",
          "data": {
            "text/html": [
              "<div>\n",
              "<style scoped>\n",
              "    .dataframe tbody tr th:only-of-type {\n",
              "        vertical-align: middle;\n",
              "    }\n",
              "\n",
              "    .dataframe tbody tr th {\n",
              "        vertical-align: top;\n",
              "    }\n",
              "\n",
              "    .dataframe thead th {\n",
              "        text-align: right;\n",
              "    }\n",
              "</style>\n",
              "<table border=\"1\" class=\"dataframe\">\n",
              "  <thead>\n",
              "    <tr style=\"text-align: right;\">\n",
              "      <th></th>\n",
              "      <th>TempAvgF</th>\n",
              "      <th>SeaLevelPressureAvgInches</th>\n",
              "      <th>HumidityAvgPercent</th>\n",
              "      <th>DewPointAvgF</th>\n",
              "      <th>DayOfYear</th>\n",
              "    </tr>\n",
              "  </thead>\n",
              "  <tbody>\n",
              "    <tr>\n",
              "      <th>1</th>\n",
              "      <td>48</td>\n",
              "      <td>30.13</td>\n",
              "      <td>68</td>\n",
              "      <td>36</td>\n",
              "      <td>356</td>\n",
              "    </tr>\n",
              "    <tr>\n",
              "      <th>2</th>\n",
              "      <td>45</td>\n",
              "      <td>30.49</td>\n",
              "      <td>52</td>\n",
              "      <td>27</td>\n",
              "      <td>357</td>\n",
              "    </tr>\n",
              "    <tr>\n",
              "      <th>3</th>\n",
              "      <td>46</td>\n",
              "      <td>30.45</td>\n",
              "      <td>56</td>\n",
              "      <td>28</td>\n",
              "      <td>358</td>\n",
              "    </tr>\n",
              "    <tr>\n",
              "      <th>4</th>\n",
              "      <td>50</td>\n",
              "      <td>30.33</td>\n",
              "      <td>71</td>\n",
              "      <td>40</td>\n",
              "      <td>359</td>\n",
              "    </tr>\n",
              "    <tr>\n",
              "      <th>5</th>\n",
              "      <td>48</td>\n",
              "      <td>30.4</td>\n",
              "      <td>63</td>\n",
              "      <td>36</td>\n",
              "      <td>360</td>\n",
              "    </tr>\n",
              "  </tbody>\n",
              "</table>\n",
              "</div>"
            ],
            "text/plain": [
              "   TempAvgF SeaLevelPressureAvgInches  ... DewPointAvgF DayOfYear\n",
              "1        48                     30.13  ...           36       356\n",
              "2        45                     30.49  ...           27       357\n",
              "3        46                     30.45  ...           28       358\n",
              "4        50                     30.33  ...           40       359\n",
              "5        48                      30.4  ...           36       360\n",
              "\n",
              "[5 rows x 5 columns]"
            ]
          },
          "metadata": {
            "tags": []
          },
          "execution_count": 75
        }
      ]
    },
    {
      "cell_type": "code",
      "metadata": {
        "id": "x46L2zlRA5zM",
        "colab_type": "code",
        "outputId": "30964a04-3603-4019-b926-a8afbd482545",
        "colab": {
          "base_uri": "https://localhost:8080/",
          "height": 303
        }
      },
      "source": [
        "X_train, X_test, y_train, y_test = train_test_split(X, y, test_size=0.33, random_state=42)\n",
        "\n",
        "from sklearn.impute import SimpleImputer\n",
        "\n",
        "imp = SimpleImputer(missing_values=float('NaN'), strategy='mean')\n",
        "imp = imp.fit(X_train)\n",
        "X_train = imp.transform(X_train)\n",
        "imp = imp.fit(X_test)\n",
        "X_test = imp.transform(X_test)\n",
        "    \n",
        "depths = list(range(3, 8))\n",
        "# decision tree\n",
        "# first predicting on training data\n",
        "print('Prediction on training data -------------------------')\n",
        "clfs_tr, predictions_tr = many_decision_trees(depths, 'entropy', X_train, y_train, X_train, y_train)  \n",
        "\n",
        "# then predicting on test data\n",
        "print('\\nPrediction on test data -----------------------------')\n",
        "clfs_te, predictions_te = many_decision_trees(depths, 'entropy', X_train, y_train, X_test, y_test)  "
      ],
      "execution_count": 0,
      "outputs": [
        {
          "output_type": "stream",
          "text": [
            "Prediction on training data -------------------------\n",
            "Tree depth: 3 Accuracy: 0.8234519104084321\n",
            "Tree depth: 4 Accuracy: 0.839262187088274\n",
            "Tree depth: 5 Accuracy: 0.8537549407114624\n",
            "Tree depth: 6 Accuracy: 0.8708827404479579\n",
            "Tree depth: 7 Accuracy: 0.8853754940711462\n",
            "\n",
            "Prediction on test data -----------------------------\n",
            "Tree depth: 3 Accuracy: 0.8235294117647058\n",
            "Tree depth: 4 Accuracy: 0.8262032085561497\n",
            "Tree depth: 5 Accuracy: 0.8315508021390374\n",
            "Tree depth: 6 Accuracy: 0.839572192513369\n",
            "Tree depth: 7 Accuracy: 0.8475935828877005\n"
          ],
          "name": "stdout"
        }
      ]
    },
    {
      "cell_type": "code",
      "metadata": {
        "id": "5TFpNSKFDYXV",
        "colab_type": "code",
        "outputId": "b0fb08ce-235b-4ffb-c44b-07078d604092",
        "colab": {
          "base_uri": "https://localhost:8080/",
          "height": 643
        }
      },
      "source": [
        "# again printing the tree\n",
        "print('Classes: {}'.format(clfs_te[0].classes_))\n",
        "print('Features: {}'.format(list(X)))\n",
        "\n",
        "dot_data = tree.export_graphviz(clfs_te[0], out_file=None, rounded=True, class_names=clfs_te[0].classes_, \n",
        "                                feature_names=list(X), filled=True)\n",
        "graph = graphviz.Source(dot_data) \n",
        "graph"
      ],
      "execution_count": 0,
      "outputs": [
        {
          "output_type": "stream",
          "text": [
            "Classes: ['Clear' 'Fog' 'Rain' 'Thunderstorm']\n",
            "Features: ['TempAvgF', 'SeaLevelPressureAvgInches', 'HumidityAvgPercent', 'DewPointAvgF', 'DayOfYear']\n"
          ],
          "name": "stdout"
        },
        {
          "output_type": "execute_result",
          "data": {
            "text/plain": [
              "<graphviz.files.Source at 0x7f61fcd81eb8>"
            ],
            "image/svg+xml": "<?xml version=\"1.0\" encoding=\"UTF-8\" standalone=\"no\"?>\n<!DOCTYPE svg PUBLIC \"-//W3C//DTD SVG 1.1//EN\"\n \"http://www.w3.org/Graphics/SVG/1.1/DTD/svg11.dtd\">\n<!-- Generated by graphviz version 2.40.1 (20161225.0304)\n -->\n<!-- Title: Tree Pages: 1 -->\n<svg width=\"1294pt\" height=\"433pt\"\n viewBox=\"0.00 0.00 1294.00 433.00\" xmlns=\"http://www.w3.org/2000/svg\" xmlns:xlink=\"http://www.w3.org/1999/xlink\">\n<g id=\"graph0\" class=\"graph\" transform=\"scale(1 1) rotate(0) translate(4 429)\">\n<title>Tree</title>\n<polygon fill=\"#ffffff\" stroke=\"transparent\" points=\"-4,4 -4,-429 1290,-429 1290,4 -4,4\"/>\n<!-- 0 -->\n<g id=\"node1\" class=\"node\">\n<title>0</title>\n<path fill=\"#eca26c\" stroke=\"#000000\" d=\"M723,-425C723,-425 546,-425 546,-425 540,-425 534,-419 534,-413 534,-413 534,-354 534,-354 534,-348 540,-342 546,-342 546,-342 723,-342 723,-342 729,-342 735,-348 735,-354 735,-354 735,-413 735,-413 735,-419 729,-425 723,-425\"/>\n<text text-anchor=\"middle\" x=\"634.5\" y=\"-409.8\" font-family=\"Helvetica,sans-Serif\" font-size=\"14.00\" fill=\"#000000\">HumidityAvgPercent &lt;= 73.5</text>\n<text text-anchor=\"middle\" x=\"634.5\" y=\"-394.8\" font-family=\"Helvetica,sans-Serif\" font-size=\"14.00\" fill=\"#000000\">entropy = 0.914</text>\n<text text-anchor=\"middle\" x=\"634.5\" y=\"-379.8\" font-family=\"Helvetica,sans-Serif\" font-size=\"14.00\" fill=\"#000000\">samples = 759</text>\n<text text-anchor=\"middle\" x=\"634.5\" y=\"-364.8\" font-family=\"Helvetica,sans-Serif\" font-size=\"14.00\" fill=\"#000000\">value = [598, 15, 135, 11]</text>\n<text text-anchor=\"middle\" x=\"634.5\" y=\"-349.8\" font-family=\"Helvetica,sans-Serif\" font-size=\"14.00\" fill=\"#000000\">class = Clear</text>\n</g>\n<!-- 1 -->\n<g id=\"node2\" class=\"node\">\n<title>1</title>\n<path fill=\"#e88f4f\" stroke=\"#000000\" d=\"M602,-306C602,-306 471,-306 471,-306 465,-306 459,-300 459,-294 459,-294 459,-235 459,-235 459,-229 465,-223 471,-223 471,-223 602,-223 602,-223 608,-223 614,-229 614,-235 614,-235 614,-294 614,-294 614,-300 608,-306 602,-306\"/>\n<text text-anchor=\"middle\" x=\"536.5\" y=\"-290.8\" font-family=\"Helvetica,sans-Serif\" font-size=\"14.00\" fill=\"#000000\">TempAvgF &lt;= 68.5</text>\n<text text-anchor=\"middle\" x=\"536.5\" y=\"-275.8\" font-family=\"Helvetica,sans-Serif\" font-size=\"14.00\" fill=\"#000000\">entropy = 0.587</text>\n<text text-anchor=\"middle\" x=\"536.5\" y=\"-260.8\" font-family=\"Helvetica,sans-Serif\" font-size=\"14.00\" fill=\"#000000\">samples = 591</text>\n<text text-anchor=\"middle\" x=\"536.5\" y=\"-245.8\" font-family=\"Helvetica,sans-Serif\" font-size=\"14.00\" fill=\"#000000\">value = [530, 6, 46, 9]</text>\n<text text-anchor=\"middle\" x=\"536.5\" y=\"-230.8\" font-family=\"Helvetica,sans-Serif\" font-size=\"14.00\" fill=\"#000000\">class = Clear</text>\n</g>\n<!-- 0&#45;&gt;1 -->\n<g id=\"edge1\" class=\"edge\">\n<title>0&#45;&gt;1</title>\n<path fill=\"none\" stroke=\"#000000\" d=\"M600.2244,-341.8796C592.8816,-332.9633 585.0524,-323.4565 577.4854,-314.268\"/>\n<polygon fill=\"#000000\" stroke=\"#000000\" points=\"579.9808,-311.7924 570.9219,-306.2981 574.5773,-316.2424 579.9808,-311.7924\"/>\n<text text-anchor=\"middle\" x=\"568.5138\" y=\"-327.4818\" font-family=\"Helvetica,sans-Serif\" font-size=\"14.00\" fill=\"#000000\">True</text>\n</g>\n<!-- 8 -->\n<g id=\"node9\" class=\"node\">\n<title>8</title>\n<path fill=\"#d5eafa\" stroke=\"#000000\" d=\"M865,-306C865,-306 688,-306 688,-306 682,-306 676,-300 676,-294 676,-294 676,-235 676,-235 676,-229 682,-223 688,-223 688,-223 865,-223 865,-223 871,-223 877,-229 877,-235 877,-235 877,-294 877,-294 877,-300 871,-306 865,-306\"/>\n<text text-anchor=\"middle\" x=\"776.5\" y=\"-290.8\" font-family=\"Helvetica,sans-Serif\" font-size=\"14.00\" fill=\"#000000\">HumidityAvgPercent &lt;= 88.5</text>\n<text text-anchor=\"middle\" x=\"776.5\" y=\"-275.8\" font-family=\"Helvetica,sans-Serif\" font-size=\"14.00\" fill=\"#000000\">entropy = 1.316</text>\n<text text-anchor=\"middle\" x=\"776.5\" y=\"-260.8\" font-family=\"Helvetica,sans-Serif\" font-size=\"14.00\" fill=\"#000000\">samples = 168</text>\n<text text-anchor=\"middle\" x=\"776.5\" y=\"-245.8\" font-family=\"Helvetica,sans-Serif\" font-size=\"14.00\" fill=\"#000000\">value = [68, 9, 89, 2]</text>\n<text text-anchor=\"middle\" x=\"776.5\" y=\"-230.8\" font-family=\"Helvetica,sans-Serif\" font-size=\"14.00\" fill=\"#000000\">class = Rain</text>\n</g>\n<!-- 0&#45;&gt;8 -->\n<g id=\"edge8\" class=\"edge\">\n<title>0&#45;&gt;8</title>\n<path fill=\"none\" stroke=\"#000000\" d=\"M684.1647,-341.8796C695.3416,-332.513 707.2962,-322.4948 718.7712,-312.8784\"/>\n<polygon fill=\"#000000\" stroke=\"#000000\" points=\"721.2069,-315.4037 726.6233,-306.2981 716.7107,-310.0386 721.2069,-315.4037\"/>\n<text text-anchor=\"middle\" x=\"724.4287\" y=\"-327.5016\" font-family=\"Helvetica,sans-Serif\" font-size=\"14.00\" fill=\"#000000\">False</text>\n</g>\n<!-- 2 -->\n<g id=\"node3\" class=\"node\">\n<title>2</title>\n<path fill=\"#e9965b\" stroke=\"#000000\" d=\"M327,-187C327,-187 150,-187 150,-187 144,-187 138,-181 138,-175 138,-175 138,-116 138,-116 138,-110 144,-104 150,-104 150,-104 327,-104 327,-104 333,-104 339,-110 339,-116 339,-116 339,-175 339,-175 339,-181 333,-187 327,-187\"/>\n<text text-anchor=\"middle\" x=\"238.5\" y=\"-171.8\" font-family=\"Helvetica,sans-Serif\" font-size=\"14.00\" fill=\"#000000\">HumidityAvgPercent &lt;= 61.5</text>\n<text text-anchor=\"middle\" x=\"238.5\" y=\"-156.8\" font-family=\"Helvetica,sans-Serif\" font-size=\"14.00\" fill=\"#000000\">entropy = 0.711</text>\n<text text-anchor=\"middle\" x=\"238.5\" y=\"-141.8\" font-family=\"Helvetica,sans-Serif\" font-size=\"14.00\" fill=\"#000000\">samples = 215</text>\n<text text-anchor=\"middle\" x=\"238.5\" y=\"-126.8\" font-family=\"Helvetica,sans-Serif\" font-size=\"14.00\" fill=\"#000000\">value = [183, 6, 26, 0]</text>\n<text text-anchor=\"middle\" x=\"238.5\" y=\"-111.8\" font-family=\"Helvetica,sans-Serif\" font-size=\"14.00\" fill=\"#000000\">class = Clear</text>\n</g>\n<!-- 1&#45;&gt;2 -->\n<g id=\"edge2\" class=\"edge\">\n<title>1&#45;&gt;2</title>\n<path fill=\"none\" stroke=\"#000000\" d=\"M458.9819,-233.5448C425.4209,-220.1429 385.519,-204.2089 348.9452,-189.6039\"/>\n<polygon fill=\"#000000\" stroke=\"#000000\" points=\"349.8118,-186.1813 339.2269,-185.7231 347.2158,-192.6822 349.8118,-186.1813\"/>\n</g>\n<!-- 5 -->\n<g id=\"node6\" class=\"node\">\n<title>5</title>\n<path fill=\"#e78b49\" stroke=\"#000000\" d=\"M625,-187C625,-187 448,-187 448,-187 442,-187 436,-181 436,-175 436,-175 436,-116 436,-116 436,-110 442,-104 448,-104 448,-104 625,-104 625,-104 631,-104 637,-110 637,-116 637,-116 637,-175 637,-175 637,-181 631,-187 625,-187\"/>\n<text text-anchor=\"middle\" x=\"536.5\" y=\"-171.8\" font-family=\"Helvetica,sans-Serif\" font-size=\"14.00\" fill=\"#000000\">HumidityAvgPercent &lt;= 61.5</text>\n<text text-anchor=\"middle\" x=\"536.5\" y=\"-156.8\" font-family=\"Helvetica,sans-Serif\" font-size=\"14.00\" fill=\"#000000\">entropy = 0.461</text>\n<text text-anchor=\"middle\" x=\"536.5\" y=\"-141.8\" font-family=\"Helvetica,sans-Serif\" font-size=\"14.00\" fill=\"#000000\">samples = 376</text>\n<text text-anchor=\"middle\" x=\"536.5\" y=\"-126.8\" font-family=\"Helvetica,sans-Serif\" font-size=\"14.00\" fill=\"#000000\">value = [347, 0, 20, 9]</text>\n<text text-anchor=\"middle\" x=\"536.5\" y=\"-111.8\" font-family=\"Helvetica,sans-Serif\" font-size=\"14.00\" fill=\"#000000\">class = Clear</text>\n</g>\n<!-- 1&#45;&gt;5 -->\n<g id=\"edge5\" class=\"edge\">\n<title>1&#45;&gt;5</title>\n<path fill=\"none\" stroke=\"#000000\" d=\"M536.5,-222.8796C536.5,-214.6838 536.5,-205.9891 536.5,-197.5013\"/>\n<polygon fill=\"#000000\" stroke=\"#000000\" points=\"540.0001,-197.298 536.5,-187.2981 533.0001,-197.2981 540.0001,-197.298\"/>\n</g>\n<!-- 3 -->\n<g id=\"node4\" class=\"node\">\n<title>3</title>\n<path fill=\"#e78946\" stroke=\"#000000\" d=\"M135,-68C135,-68 12,-68 12,-68 6,-68 0,-62 0,-56 0,-56 0,-12 0,-12 0,-6 6,0 12,0 12,0 135,0 135,0 141,0 147,-6 147,-12 147,-12 147,-56 147,-56 147,-62 141,-68 135,-68\"/>\n<text text-anchor=\"middle\" x=\"73.5\" y=\"-52.8\" font-family=\"Helvetica,sans-Serif\" font-size=\"14.00\" fill=\"#000000\">entropy = 0.326</text>\n<text text-anchor=\"middle\" x=\"73.5\" y=\"-37.8\" font-family=\"Helvetica,sans-Serif\" font-size=\"14.00\" fill=\"#000000\">samples = 134</text>\n<text text-anchor=\"middle\" x=\"73.5\" y=\"-22.8\" font-family=\"Helvetica,sans-Serif\" font-size=\"14.00\" fill=\"#000000\">value = [126, 0, 8, 0]</text>\n<text text-anchor=\"middle\" x=\"73.5\" y=\"-7.8\" font-family=\"Helvetica,sans-Serif\" font-size=\"14.00\" fill=\"#000000\">class = Clear</text>\n</g>\n<!-- 2&#45;&gt;3 -->\n<g id=\"edge3\" class=\"edge\">\n<title>2&#45;&gt;3</title>\n<path fill=\"none\" stroke=\"#000000\" d=\"M177.0601,-103.9815C162.4309,-94.0957 146.8549,-83.5701 132.3452,-73.7651\"/>\n<polygon fill=\"#000000\" stroke=\"#000000\" points=\"134.1859,-70.7848 123.9406,-68.0856 130.2665,-76.5847 134.1859,-70.7848\"/>\n</g>\n<!-- 4 -->\n<g id=\"node5\" class=\"node\">\n<title>4</title>\n<path fill=\"#efb184\" stroke=\"#000000\" d=\"M300,-68C300,-68 177,-68 177,-68 171,-68 165,-62 165,-56 165,-56 165,-12 165,-12 165,-6 171,0 177,0 177,0 300,0 300,0 306,0 312,-6 312,-12 312,-12 312,-56 312,-56 312,-62 306,-68 300,-68\"/>\n<text text-anchor=\"middle\" x=\"238.5\" y=\"-52.8\" font-family=\"Helvetica,sans-Serif\" font-size=\"14.00\" fill=\"#000000\">entropy = 1.117</text>\n<text text-anchor=\"middle\" x=\"238.5\" y=\"-37.8\" font-family=\"Helvetica,sans-Serif\" font-size=\"14.00\" fill=\"#000000\">samples = 81</text>\n<text text-anchor=\"middle\" x=\"238.5\" y=\"-22.8\" font-family=\"Helvetica,sans-Serif\" font-size=\"14.00\" fill=\"#000000\">value = [57, 6, 18, 0]</text>\n<text text-anchor=\"middle\" x=\"238.5\" y=\"-7.8\" font-family=\"Helvetica,sans-Serif\" font-size=\"14.00\" fill=\"#000000\">class = Clear</text>\n</g>\n<!-- 2&#45;&gt;4 -->\n<g id=\"edge4\" class=\"edge\">\n<title>2&#45;&gt;4</title>\n<path fill=\"none\" stroke=\"#000000\" d=\"M238.5,-103.9815C238.5,-95.618 238.5,-86.7965 238.5,-78.3409\"/>\n<polygon fill=\"#000000\" stroke=\"#000000\" points=\"242.0001,-78.2636 238.5,-68.2637 235.0001,-78.2637 242.0001,-78.2636\"/>\n</g>\n<!-- 6 -->\n<g id=\"node7\" class=\"node\">\n<title>6</title>\n<path fill=\"#e68641\" stroke=\"#000000\" d=\"M465,-68C465,-68 342,-68 342,-68 336,-68 330,-62 330,-56 330,-56 330,-12 330,-12 330,-6 336,0 342,0 342,0 465,0 465,0 471,0 477,-6 477,-12 477,-12 477,-56 477,-56 477,-62 471,-68 465,-68\"/>\n<text text-anchor=\"middle\" x=\"403.5\" y=\"-52.8\" font-family=\"Helvetica,sans-Serif\" font-size=\"14.00\" fill=\"#000000\">entropy = 0.242</text>\n<text text-anchor=\"middle\" x=\"403.5\" y=\"-37.8\" font-family=\"Helvetica,sans-Serif\" font-size=\"14.00\" fill=\"#000000\">samples = 125</text>\n<text text-anchor=\"middle\" x=\"403.5\" y=\"-22.8\" font-family=\"Helvetica,sans-Serif\" font-size=\"14.00\" fill=\"#000000\">value = [120, 0, 0, 5]</text>\n<text text-anchor=\"middle\" x=\"403.5\" y=\"-7.8\" font-family=\"Helvetica,sans-Serif\" font-size=\"14.00\" fill=\"#000000\">class = Clear</text>\n</g>\n<!-- 5&#45;&gt;6 -->\n<g id=\"edge6\" class=\"edge\">\n<title>5&#45;&gt;6</title>\n<path fill=\"none\" stroke=\"#000000\" d=\"M486.9757,-103.9815C475.5743,-94.4232 463.4595,-84.2668 452.0979,-74.7419\"/>\n<polygon fill=\"#000000\" stroke=\"#000000\" points=\"454.2825,-72.006 444.3706,-68.2637 449.7853,-77.3704 454.2825,-72.006\"/>\n</g>\n<!-- 7 -->\n<g id=\"node8\" class=\"node\">\n<title>7</title>\n<path fill=\"#e88e4e\" stroke=\"#000000\" d=\"M638,-68C638,-68 507,-68 507,-68 501,-68 495,-62 495,-56 495,-56 495,-12 495,-12 495,-6 501,0 507,0 507,0 638,0 638,0 644,0 650,-6 650,-12 650,-12 650,-56 650,-56 650,-62 644,-68 638,-68\"/>\n<text text-anchor=\"middle\" x=\"572.5\" y=\"-52.8\" font-family=\"Helvetica,sans-Serif\" font-size=\"14.00\" fill=\"#000000\">entropy = 0.517</text>\n<text text-anchor=\"middle\" x=\"572.5\" y=\"-37.8\" font-family=\"Helvetica,sans-Serif\" font-size=\"14.00\" fill=\"#000000\">samples = 251</text>\n<text text-anchor=\"middle\" x=\"572.5\" y=\"-22.8\" font-family=\"Helvetica,sans-Serif\" font-size=\"14.00\" fill=\"#000000\">value = [227, 0, 20, 4]</text>\n<text text-anchor=\"middle\" x=\"572.5\" y=\"-7.8\" font-family=\"Helvetica,sans-Serif\" font-size=\"14.00\" fill=\"#000000\">class = Clear</text>\n</g>\n<!-- 5&#45;&gt;7 -->\n<g id=\"edge7\" class=\"edge\">\n<title>5&#45;&gt;7</title>\n<path fill=\"none\" stroke=\"#000000\" d=\"M549.9051,-103.9815C552.6647,-95.4342 555.5788,-86.4086 558.3635,-77.7839\"/>\n<polygon fill=\"#000000\" stroke=\"#000000\" points=\"561.6954,-78.8554 561.4373,-68.2637 555.034,-76.7046 561.6954,-78.8554\"/>\n</g>\n<!-- 9 -->\n<g id=\"node10\" class=\"node\">\n<title>9</title>\n<path fill=\"#fdf7f2\" stroke=\"#000000\" d=\"M838,-187C838,-187 715,-187 715,-187 709,-187 703,-181 703,-175 703,-175 703,-116 703,-116 703,-110 709,-104 715,-104 715,-104 838,-104 838,-104 844,-104 850,-110 850,-116 850,-116 850,-175 850,-175 850,-181 844,-187 838,-187\"/>\n<text text-anchor=\"middle\" x=\"776.5\" y=\"-171.8\" font-family=\"Helvetica,sans-Serif\" font-size=\"14.00\" fill=\"#000000\">TempAvgF &lt;= 69.5</text>\n<text text-anchor=\"middle\" x=\"776.5\" y=\"-156.8\" font-family=\"Helvetica,sans-Serif\" font-size=\"14.00\" fill=\"#000000\">entropy = 1.349</text>\n<text text-anchor=\"middle\" x=\"776.5\" y=\"-141.8\" font-family=\"Helvetica,sans-Serif\" font-size=\"14.00\" fill=\"#000000\">samples = 141</text>\n<text text-anchor=\"middle\" x=\"776.5\" y=\"-126.8\" font-family=\"Helvetica,sans-Serif\" font-size=\"14.00\" fill=\"#000000\">value = [68, 8, 63, 2]</text>\n<text text-anchor=\"middle\" x=\"776.5\" y=\"-111.8\" font-family=\"Helvetica,sans-Serif\" font-size=\"14.00\" fill=\"#000000\">class = Clear</text>\n</g>\n<!-- 8&#45;&gt;9 -->\n<g id=\"edge9\" class=\"edge\">\n<title>8&#45;&gt;9</title>\n<path fill=\"none\" stroke=\"#000000\" d=\"M776.5,-222.8796C776.5,-214.6838 776.5,-205.9891 776.5,-197.5013\"/>\n<polygon fill=\"#000000\" stroke=\"#000000\" points=\"780.0001,-197.298 776.5,-187.2981 773.0001,-197.2981 780.0001,-197.298\"/>\n</g>\n<!-- 12 -->\n<g id=\"node13\" class=\"node\">\n<title>12</title>\n<path fill=\"#41a1e6\" stroke=\"#000000\" d=\"M1152,-187C1152,-187 975,-187 975,-187 969,-187 963,-181 963,-175 963,-175 963,-116 963,-116 963,-110 969,-104 975,-104 975,-104 1152,-104 1152,-104 1158,-104 1164,-110 1164,-116 1164,-116 1164,-175 1164,-175 1164,-181 1158,-187 1152,-187\"/>\n<text text-anchor=\"middle\" x=\"1063.5\" y=\"-171.8\" font-family=\"Helvetica,sans-Serif\" font-size=\"14.00\" fill=\"#000000\">HumidityAvgPercent &lt;= 89.5</text>\n<text text-anchor=\"middle\" x=\"1063.5\" y=\"-156.8\" font-family=\"Helvetica,sans-Serif\" font-size=\"14.00\" fill=\"#000000\">entropy = 0.229</text>\n<text text-anchor=\"middle\" x=\"1063.5\" y=\"-141.8\" font-family=\"Helvetica,sans-Serif\" font-size=\"14.00\" fill=\"#000000\">samples = 27</text>\n<text text-anchor=\"middle\" x=\"1063.5\" y=\"-126.8\" font-family=\"Helvetica,sans-Serif\" font-size=\"14.00\" fill=\"#000000\">value = [0, 1, 26, 0]</text>\n<text text-anchor=\"middle\" x=\"1063.5\" y=\"-111.8\" font-family=\"Helvetica,sans-Serif\" font-size=\"14.00\" fill=\"#000000\">class = Rain</text>\n</g>\n<!-- 8&#45;&gt;12 -->\n<g id=\"edge12\" class=\"edge\">\n<title>8&#45;&gt;12</title>\n<path fill=\"none\" stroke=\"#000000\" d=\"M876.8787,-222.8796C901.7847,-212.5527 928.6013,-201.4336 953.9229,-190.9344\"/>\n<polygon fill=\"#000000\" stroke=\"#000000\" points=\"955.2812,-194.1602 963.178,-187.0969 952.6,-187.694 955.2812,-194.1602\"/>\n</g>\n<!-- 10 -->\n<g id=\"node11\" class=\"node\">\n<title>10</title>\n<path fill=\"#fafdfe\" stroke=\"#000000\" d=\"M803,-68C803,-68 680,-68 680,-68 674,-68 668,-62 668,-56 668,-56 668,-12 668,-12 668,-6 674,0 680,0 680,0 803,0 803,0 809,0 815,-6 815,-12 815,-12 815,-56 815,-56 815,-62 809,-68 803,-68\"/>\n<text text-anchor=\"middle\" x=\"741.5\" y=\"-52.8\" font-family=\"Helvetica,sans-Serif\" font-size=\"14.00\" fill=\"#000000\">entropy = 1.389</text>\n<text text-anchor=\"middle\" x=\"741.5\" y=\"-37.8\" font-family=\"Helvetica,sans-Serif\" font-size=\"14.00\" fill=\"#000000\">samples = 73</text>\n<text text-anchor=\"middle\" x=\"741.5\" y=\"-22.8\" font-family=\"Helvetica,sans-Serif\" font-size=\"14.00\" fill=\"#000000\">value = [32, 8, 33, 0]</text>\n<text text-anchor=\"middle\" x=\"741.5\" y=\"-7.8\" font-family=\"Helvetica,sans-Serif\" font-size=\"14.00\" fill=\"#000000\">class = Rain</text>\n</g>\n<!-- 9&#45;&gt;10 -->\n<g id=\"edge10\" class=\"edge\">\n<title>9&#45;&gt;10</title>\n<path fill=\"none\" stroke=\"#000000\" d=\"M763.4673,-103.9815C760.8131,-95.5261 758.012,-86.6026 755.3312,-78.0623\"/>\n<polygon fill=\"#000000\" stroke=\"#000000\" points=\"758.5898,-76.7564 752.2554,-68.2637 751.9111,-78.8529 758.5898,-76.7564\"/>\n</g>\n<!-- 11 -->\n<g id=\"node12\" class=\"node\">\n<title>11</title>\n<path fill=\"#fbebe0\" stroke=\"#000000\" d=\"M968,-68C968,-68 845,-68 845,-68 839,-68 833,-62 833,-56 833,-56 833,-12 833,-12 833,-6 839,0 845,0 845,0 968,0 968,0 974,0 980,-6 980,-12 980,-12 980,-56 980,-56 980,-62 974,-68 968,-68\"/>\n<text text-anchor=\"middle\" x=\"906.5\" y=\"-52.8\" font-family=\"Helvetica,sans-Serif\" font-size=\"14.00\" fill=\"#000000\">entropy = 1.156</text>\n<text text-anchor=\"middle\" x=\"906.5\" y=\"-37.8\" font-family=\"Helvetica,sans-Serif\" font-size=\"14.00\" fill=\"#000000\">samples = 68</text>\n<text text-anchor=\"middle\" x=\"906.5\" y=\"-22.8\" font-family=\"Helvetica,sans-Serif\" font-size=\"14.00\" fill=\"#000000\">value = [36, 0, 30, 2]</text>\n<text text-anchor=\"middle\" x=\"906.5\" y=\"-7.8\" font-family=\"Helvetica,sans-Serif\" font-size=\"14.00\" fill=\"#000000\">class = Clear</text>\n</g>\n<!-- 9&#45;&gt;11 -->\n<g id=\"edge11\" class=\"edge\">\n<title>9&#45;&gt;11</title>\n<path fill=\"none\" stroke=\"#000000\" d=\"M824.9072,-103.9815C835.9442,-94.5151 847.6653,-84.462 858.6777,-75.0168\"/>\n<polygon fill=\"#000000\" stroke=\"#000000\" points=\"861.2394,-77.4307 866.5513,-68.2637 856.6822,-72.1173 861.2394,-77.4307\"/>\n</g>\n<!-- 13 -->\n<g id=\"node14\" class=\"node\">\n<title>13</title>\n<path fill=\"#7bbeee\" stroke=\"#000000\" d=\"M1117,-68C1117,-68 1010,-68 1010,-68 1004,-68 998,-62 998,-56 998,-56 998,-12 998,-12 998,-6 1004,0 1010,0 1010,0 1117,0 1117,0 1123,0 1129,-6 1129,-12 1129,-12 1129,-56 1129,-56 1129,-62 1123,-68 1117,-68\"/>\n<text text-anchor=\"middle\" x=\"1063.5\" y=\"-52.8\" font-family=\"Helvetica,sans-Serif\" font-size=\"14.00\" fill=\"#000000\">entropy = 0.811</text>\n<text text-anchor=\"middle\" x=\"1063.5\" y=\"-37.8\" font-family=\"Helvetica,sans-Serif\" font-size=\"14.00\" fill=\"#000000\">samples = 4</text>\n<text text-anchor=\"middle\" x=\"1063.5\" y=\"-22.8\" font-family=\"Helvetica,sans-Serif\" font-size=\"14.00\" fill=\"#000000\">value = [0, 1, 3, 0]</text>\n<text text-anchor=\"middle\" x=\"1063.5\" y=\"-7.8\" font-family=\"Helvetica,sans-Serif\" font-size=\"14.00\" fill=\"#000000\">class = Rain</text>\n</g>\n<!-- 12&#45;&gt;13 -->\n<g id=\"edge13\" class=\"edge\">\n<title>12&#45;&gt;13</title>\n<path fill=\"none\" stroke=\"#000000\" d=\"M1063.5,-103.9815C1063.5,-95.618 1063.5,-86.7965 1063.5,-78.3409\"/>\n<polygon fill=\"#000000\" stroke=\"#000000\" points=\"1067.0001,-78.2636 1063.5,-68.2637 1060.0001,-78.2637 1067.0001,-78.2636\"/>\n</g>\n<!-- 14 -->\n<g id=\"node15\" class=\"node\">\n<title>14</title>\n<path fill=\"#399de5\" stroke=\"#000000\" d=\"M1274,-68C1274,-68 1159,-68 1159,-68 1153,-68 1147,-62 1147,-56 1147,-56 1147,-12 1147,-12 1147,-6 1153,0 1159,0 1159,0 1274,0 1274,0 1280,0 1286,-6 1286,-12 1286,-12 1286,-56 1286,-56 1286,-62 1280,-68 1274,-68\"/>\n<text text-anchor=\"middle\" x=\"1216.5\" y=\"-52.8\" font-family=\"Helvetica,sans-Serif\" font-size=\"14.00\" fill=\"#000000\">entropy = 0.0</text>\n<text text-anchor=\"middle\" x=\"1216.5\" y=\"-37.8\" font-family=\"Helvetica,sans-Serif\" font-size=\"14.00\" fill=\"#000000\">samples = 23</text>\n<text text-anchor=\"middle\" x=\"1216.5\" y=\"-22.8\" font-family=\"Helvetica,sans-Serif\" font-size=\"14.00\" fill=\"#000000\">value = [0, 0, 23, 0]</text>\n<text text-anchor=\"middle\" x=\"1216.5\" y=\"-7.8\" font-family=\"Helvetica,sans-Serif\" font-size=\"14.00\" fill=\"#000000\">class = Rain</text>\n</g>\n<!-- 12&#45;&gt;14 -->\n<g id=\"edge14\" class=\"edge\">\n<title>12&#45;&gt;14</title>\n<path fill=\"none\" stroke=\"#000000\" d=\"M1120.4716,-103.9815C1133.8396,-94.2394 1148.0604,-83.8759 1161.3472,-74.193\"/>\n<polygon fill=\"#000000\" stroke=\"#000000\" points=\"1163.4632,-76.9819 1169.4835,-68.2637 1159.3405,-71.3247 1163.4632,-76.9819\"/>\n</g>\n</g>\n</svg>\n"
          },
          "metadata": {
            "tags": []
          },
          "execution_count": 77
        }
      ]
    },
    {
      "cell_type": "code",
      "metadata": {
        "id": "9TDlr9AcFWR8",
        "colab_type": "code",
        "outputId": "a51a2ae7-347f-4727-cebd-05bed3782acc",
        "colab": {
          "base_uri": "https://localhost:8080/",
          "height": 127
        }
      },
      "source": [
        " classes_occurrences = polished_data_2['Events'].value_counts().to_frame()\n",
        "classes_occurrences = classes_occurrences.sort_index(axis=0)\n",
        "print(classes_occurrences)"
      ],
      "execution_count": 0,
      "outputs": [
        {
          "output_type": "stream",
          "text": [
            "              Events\n",
            "Clear            903\n",
            "Fog               21\n",
            "Rain             192\n",
            "Thunderstorm      17\n"
          ],
          "name": "stdout"
        }
      ]
    },
    {
      "cell_type": "code",
      "metadata": {
        "id": "ghrF2PCzDf4-",
        "colab_type": "code",
        "colab": {}
      },
      "source": [
        " "
      ],
      "execution_count": 0,
      "outputs": []
    },
    {
      "cell_type": "code",
      "metadata": {
        "id": "6sYIuE_7zn3D",
        "colab_type": "code",
        "colab": {}
      },
      "source": [
        ""
      ],
      "execution_count": 0,
      "outputs": []
    }
  ]
}